{
  "nbformat": 4,
  "nbformat_minor": 0,
  "metadata": {
    "colab": {
      "name": "runPythonBasics.ipynb",
      "provenance": []
    },
    "kernelspec": {
      "name": "python3",
      "display_name": "Python 3"
    },
    "language_info": {
      "name": "python"
    }
  },
  "cells": [
    {
      "cell_type": "markdown",
      "metadata": {
        "id": "eVFo95JhMel9"
      },
      "source": [
        "```#!/usr/bin/env python```\n"
      ]
    },
    {
      "cell_type": "markdown",
      "metadata": {
        "id": "5cP4obbVMel_"
      },
      "source": [
        "``` ```"
      ]
    },
    {
      "cell_type": "markdown",
      "metadata": {
        "id": "bgnYFz4BMemA"
      },
      "source": [
        "```################################################################################```\n",
        "\n",
        "```# runPythonBasics.py:```\n",
        "\n",
        "```# This is the JSNP Python's guide```\n",
        "\n",
        "```#```\n",
        "\n",
        "```#  Project:        PYTHON-GUIDE```\n",
        "\n",
        "```#  File:           runPythonBasics.py```\n",
        "\n",
        "```#  Date(YY/MM/DD): 15/05/21```\n",
        "\n",
        "```#```\n",
        "\n",
        "```#   Author: GNSS Academy```\n",
        "\n",
        "```#   Copyright 2021 GNSS Academy```\n",
        "\n",
        "```#```\n",
        "\n",
        "```# -----------------------------------------------------------------```\n",
        "\n",
        "```# Date       | Author             | Action```\n",
        "\n",
        "```# -----------------------------------------------------------------```\n",
        "\n",
        "```#```\n",
        "\n",
        "```################################################################################```\n",
        "\n",
        "``` ```\n",
        "``` ```\n",
        "```#*******************************************************************************```\n",
        "\n",
        "```#*******************************************************************************```\n",
        "\n",
        "#                           PYTHON GUIDE JSNP\n",
        "\n",
        "```#*******************************************************************************```\n",
        "\n",
        "```#*******************************************************************************```\n",
        "\n",
        "``` ```"
      ]
    },
    {
      "cell_type": "code",
      "metadata": {
        "id": "zqUiulWhMemG"
      },
      "source": [
        "from math import pi"
      ],
      "execution_count": null,
      "outputs": []
    },
    {
      "cell_type": "markdown",
      "metadata": {
        "id": "CZKYchMXMemG"
      },
      "source": [
        "# Script arguments\n"
      ]
    },
    {
      "cell_type": "markdown",
      "metadata": {
        "id": "d692LP8lxYib"
      },
      "source": [
        "\n",
        "```#-------------------------------------------------------------------------------```\n",
        "\n",
        "```# First, import Python's sys module```\n"
      ]
    },
    {
      "cell_type": "code",
      "metadata": {
        "id": "z34pZA_qMemH"
      },
      "source": [
        "import sys"
      ],
      "execution_count": null,
      "outputs": []
    },
    {
      "cell_type": "markdown",
      "metadata": {
        "id": "rAzNXa0WMemH"
      },
      "source": [
        "``` ```"
      ]
    },
    {
      "cell_type": "code",
      "metadata": {
        "id": "mS8a-ikUMemI",
        "colab": {
          "base_uri": "https://localhost:8080/"
        },
        "collapsed": true,
        "outputId": "0dc70013-8b38-4b22-fcb3-dea19b1b795e"
      },
      "source": [
        "print(sys.argv)"
      ],
      "execution_count": null,
      "outputs": [
        {
          "output_type": "stream",
          "text": [
            "['/usr/local/lib/python3.7/dist-packages/ipykernel_launcher.py', '-f', '/root/.local/share/jupyter/runtime/kernel-9a3a2a23-497b-480c-a45d-60405602b931.json']\n"
          ],
          "name": "stdout"
        }
      ]
    },
    {
      "cell_type": "markdown",
      "metadata": {
        "id": "QosvZJuwMemI"
      },
      "source": [
        "``` ```"
      ]
    },
    {
      "cell_type": "code",
      "metadata": {
        "id": "OscrGZIuMemI"
      },
      "source": [
        "if(len(sys.argv) > 1):\n",
        "    # Get the first argument\n",
        "    first_arg = sys.argv[1]"
      ],
      "execution_count": null,
      "outputs": []
    },
    {
      "cell_type": "markdown",
      "metadata": {
        "id": "Ijp-KjtuMemI"
      },
      "source": [
        "``` ```"
      ]
    },
    {
      "cell_type": "markdown",
      "metadata": {
        "id": "ohP1P2AaMemJ"
      },
      "source": [
        "# Data types\n",
        "\n"
      ]
    },
    {
      "cell_type": "markdown",
      "metadata": {
        "id": "PmVPb2fIbdb7"
      },
      "source": [
        "\n",
        "```#-------------------------------------------------------------------------------```\n",
        "\n",
        "``` ```\n"
      ]
    },
    {
      "cell_type": "markdown",
      "metadata": {
        "id": "RSmNv34pOJAm"
      },
      "source": [
        "## Boolean\n"
      ]
    },
    {
      "cell_type": "markdown",
      "metadata": {
        "id": "9TlFBw0LbYcV"
      },
      "source": [
        "\n",
        "```#--------------------------------------```\n",
        "\n",
        "``` ```\n",
        "```# The Boolean data type is either True or False. Boolean operators are```\n",
        "\n",
        "```# ordered by priority: not -> and -> or```\n",
        "\n",
        "``` ```"
      ]
    },
    {
      "cell_type": "code",
      "metadata": {
        "id": "xsWbJwkcMemK",
        "colab": {
          "base_uri": "https://localhost:8080/"
        },
        "collapsed": true,
        "outputId": "6ac84f7f-9d4f-4691-b49c-ff9847e341c9"
      },
      "source": [
        "print(1<2 and 0<=1 and 3>2 and 2>=2 and 1==1 and 1!=0)"
      ],
      "execution_count": null,
      "outputs": [
        {
          "output_type": "stream",
          "text": [
            "True\n"
          ],
          "name": "stdout"
        }
      ]
    },
    {
      "cell_type": "code",
      "metadata": {
        "id": "IRTYXErMMemL",
        "colab": {
          "base_uri": "https://localhost:8080/"
        },
        "collapsed": true,
        "outputId": "ceb3aa08-9aff-440d-d954-4f6219d350bf"
      },
      "source": [
        "print(bool(None or 0 or 0.0 or '' or [] or {} or set()))"
      ],
      "execution_count": null,
      "outputs": [
        {
          "output_type": "stream",
          "text": [
            "False\n"
          ],
          "name": "stdout"
        }
      ]
    },
    {
      "cell_type": "markdown",
      "metadata": {
        "id": "BAN2xCVEMemL"
      },
      "source": [
        "``` ```"
      ]
    },
    {
      "cell_type": "markdown",
      "metadata": {
        "id": "ZHQY15qjMemL"
      },
      "source": [
        "```# Rule: None, 0, 0.0, empty strings, or empty container```\n",
        "\n",
        "```# types evaluate to False```\n"
      ]
    },
    {
      "cell_type": "markdown",
      "metadata": {
        "id": "X9HA0AUMMemL"
      },
      "source": [
        "``` ```"
      ]
    },
    {
      "cell_type": "markdown",
      "metadata": {
        "id": "t6RU4AVIMemL"
      },
      "source": [
        "## Integer and Float\n"
      ]
    },
    {
      "cell_type": "markdown",
      "metadata": {
        "id": "0I8AtRz_MemM"
      },
      "source": [
        "\n",
        "```#--------------------------------------```\n",
        "\n",
        "```# An integer is a positive or negative number without decimal point such as 3.```\n",
        "\n",
        "```# A float is a positive or negative number with floating point precision```\n",
        "\n",
        "```# such as 3.1415926.```\n",
        "\n",
        "```# Integer division rounds toward the smaller integer (example: 3//2==1).```\n"
      ]
    },
    {
      "cell_type": "markdown",
      "metadata": {
        "id": "7KbxnnxBMemN"
      },
      "source": [
        "### Arithmetic Operations\n"
      ]
    },
    {
      "cell_type": "code",
      "metadata": {
        "id": "sFlJtyyPMemN"
      },
      "source": [
        "x, y = 3, 2"
      ],
      "execution_count": null,
      "outputs": []
    },
    {
      "cell_type": "code",
      "metadata": {
        "id": "2GBCwoH9MemN",
        "colab": {
          "base_uri": "https://localhost:8080/"
        },
        "collapsed": true,
        "outputId": "2f1c9808-c3c5-42cb-9eaa-b46c39640b3a"
      },
      "source": [
        "print(x + y)"
      ],
      "execution_count": null,
      "outputs": [
        {
          "output_type": "stream",
          "text": [
            "5\n"
          ],
          "name": "stdout"
        }
      ]
    },
    {
      "cell_type": "code",
      "metadata": {
        "id": "YzZGCY62MemN",
        "colab": {
          "base_uri": "https://localhost:8080/"
        },
        "collapsed": true,
        "outputId": "2e03d8be-7abb-4dc2-cbfc-44d986487c20"
      },
      "source": [
        "print(x - y)"
      ],
      "execution_count": null,
      "outputs": [
        {
          "output_type": "stream",
          "text": [
            "1\n"
          ],
          "name": "stdout"
        }
      ]
    },
    {
      "cell_type": "code",
      "metadata": {
        "id": "QcW-5vihMemN",
        "colab": {
          "base_uri": "https://localhost:8080/"
        },
        "collapsed": true,
        "outputId": "e63b6244-5849-4a60-b439-e35fc14ae9e1"
      },
      "source": [
        "print(x * y)"
      ],
      "execution_count": null,
      "outputs": [
        {
          "output_type": "stream",
          "text": [
            "6\n"
          ],
          "name": "stdout"
        }
      ]
    },
    {
      "cell_type": "code",
      "metadata": {
        "id": "ylVADQhHMemN",
        "colab": {
          "base_uri": "https://localhost:8080/"
        },
        "collapsed": true,
        "outputId": "6e5b9f36-dc9c-4762-8ba7-04afe262d4a4"
      },
      "source": [
        "print(x / y)"
      ],
      "execution_count": null,
      "outputs": [
        {
          "output_type": "stream",
          "text": [
            "1.5\n"
          ],
          "name": "stdout"
        }
      ]
    },
    {
      "cell_type": "code",
      "metadata": {
        "id": "GyrEXKEjMemO",
        "colab": {
          "base_uri": "https://localhost:8080/"
        },
        "collapsed": true,
        "outputId": "f0d9ec80-856c-4bfa-97cf-3cd3500603e6"
      },
      "source": [
        "print(x // y)"
      ],
      "execution_count": null,
      "outputs": [
        {
          "output_type": "stream",
          "text": [
            "1\n"
          ],
          "name": "stdout"
        }
      ]
    },
    {
      "cell_type": "code",
      "metadata": {
        "id": "KIVREb7fMemO",
        "colab": {
          "base_uri": "https://localhost:8080/"
        },
        "collapsed": true,
        "outputId": "92b8763c-75b8-4364-b62c-cced5d84ee8d"
      },
      "source": [
        "print(x % y)"
      ],
      "execution_count": null,
      "outputs": [
        {
          "output_type": "stream",
          "text": [
            "1\n"
          ],
          "name": "stdout"
        }
      ]
    },
    {
      "cell_type": "code",
      "metadata": {
        "id": "-axyW0mUMemO",
        "colab": {
          "base_uri": "https://localhost:8080/"
        },
        "collapsed": true,
        "outputId": "d1bd1a58-9ac8-4a19-cfe9-e881b31ec585"
      },
      "source": [
        "print(-x)"
      ],
      "execution_count": null,
      "outputs": [
        {
          "output_type": "stream",
          "text": [
            "-3\n"
          ],
          "name": "stdout"
        }
      ]
    },
    {
      "cell_type": "code",
      "metadata": {
        "id": "Z0tZqBYYMemO",
        "colab": {
          "base_uri": "https://localhost:8080/"
        },
        "collapsed": true,
        "outputId": "3858a638-a20c-42ff-8f63-7ffc542cbd4f"
      },
      "source": [
        "print(abs(-x))"
      ],
      "execution_count": null,
      "outputs": [
        {
          "output_type": "stream",
          "text": [
            "3\n"
          ],
          "name": "stdout"
        }
      ]
    },
    {
      "cell_type": "code",
      "metadata": {
        "id": "ibuWOIMrMemO",
        "colab": {
          "base_uri": "https://localhost:8080/"
        },
        "collapsed": true,
        "outputId": "1bc2a8ba-6077-49d8-a07c-c4cbf8c6d0ac"
      },
      "source": [
        "print(int(3.9))"
      ],
      "execution_count": null,
      "outputs": [
        {
          "output_type": "stream",
          "text": [
            "3\n"
          ],
          "name": "stdout"
        }
      ]
    },
    {
      "cell_type": "code",
      "metadata": {
        "id": "vmLFfP1yMemO",
        "colab": {
          "base_uri": "https://localhost:8080/"
        },
        "collapsed": true,
        "outputId": "0faeffa1-ea9d-4bc0-cea3-9dabe70ab991"
      },
      "source": [
        "print(float(3))"
      ],
      "execution_count": null,
      "outputs": [
        {
          "output_type": "stream",
          "text": [
            "3.0\n"
          ],
          "name": "stdout"
        }
      ]
    },
    {
      "cell_type": "code",
      "metadata": {
        "id": "LEWoRAlYMemP",
        "colab": {
          "base_uri": "https://localhost:8080/"
        },
        "collapsed": true,
        "outputId": "9d61f73c-774c-4084-a510-ece2ecc96e56"
      },
      "source": [
        "print(x ** y)"
      ],
      "execution_count": null,
      "outputs": [
        {
          "output_type": "stream",
          "text": [
            "9\n"
          ],
          "name": "stdout"
        }
      ]
    },
    {
      "cell_type": "markdown",
      "metadata": {
        "id": "R88g1Og_MemP"
      },
      "source": [
        "``` ```"
      ]
    },
    {
      "cell_type": "markdown",
      "metadata": {
        "id": "fdAwZNU6MemP"
      },
      "source": [
        "``` ```"
      ]
    },
    {
      "cell_type": "markdown",
      "metadata": {
        "id": "M1E3IbpeMemP"
      },
      "source": [
        "## String\n",
        "\n",
        "```#--------------------------------------```\n",
        "\n",
        "```# Python Strings are sequences of characters.```\n"
      ]
    },
    {
      "cell_type": "markdown",
      "metadata": {
        "id": "9-HPaiQrMemP"
      },
      "source": [
        "``` ```"
      ]
    },
    {
      "cell_type": "markdown",
      "metadata": {
        "id": "xBLhbQohMemQ"
      },
      "source": [
        "### String Creation Methods:\n",
        "\n"
      ]
    },
    {
      "cell_type": "markdown",
      "metadata": {
        "id": "_hrXSA9lMemQ"
      },
      "source": [
        "```# 1. Single quotes```\n"
      ]
    },
    {
      "cell_type": "code",
      "metadata": {
        "id": "x8IfOnh2MemQ",
        "colab": {
          "base_uri": "https://localhost:8080/"
        },
        "collapsed": true,
        "outputId": "15f1c8aa-dee6-4ea7-e95c-f1318b88cfb9"
      },
      "source": [
        "print('Yes')"
      ],
      "execution_count": null,
      "outputs": [
        {
          "output_type": "stream",
          "text": [
            "Yes\n"
          ],
          "name": "stdout"
        }
      ]
    },
    {
      "cell_type": "markdown",
      "metadata": {
        "id": "sczj4NZZMemQ"
      },
      "source": [
        "```# 2. Double quotes```\n"
      ]
    },
    {
      "cell_type": "code",
      "metadata": {
        "id": "qycNf9nhMemQ",
        "colab": {
          "base_uri": "https://localhost:8080/"
        },
        "collapsed": true,
        "outputId": "08590565-b733-450f-ac04-cf84941f9df2"
      },
      "source": [
        "print(\"Yes\")"
      ],
      "execution_count": null,
      "outputs": [
        {
          "output_type": "stream",
          "text": [
            "Yes\n"
          ],
          "name": "stdout"
        }
      ]
    },
    {
      "cell_type": "markdown",
      "metadata": {
        "id": "4-sektjQMemQ"
      },
      "source": [
        "```# 3. Triple quotes (multi-line)```\n"
      ]
    },
    {
      "cell_type": "code",
      "metadata": {
        "id": "cSFtu9YwMemR",
        "colab": {
          "base_uri": "https://localhost:8080/"
        },
        "collapsed": true,
        "outputId": "d018eb91-408e-4046-dfe4-91344fd2f350"
      },
      "source": [
        "print(\"\"\"Yes\n",
        "We Can\"\"\")"
      ],
      "execution_count": null,
      "outputs": [
        {
          "output_type": "stream",
          "text": [
            "Yes\n",
            "We Can\n"
          ],
          "name": "stdout"
        }
      ]
    },
    {
      "cell_type": "markdown",
      "metadata": {
        "id": "P-qMkmh4MemR"
      },
      "source": [
        "```# 4. String method```\n"
      ]
    },
    {
      "cell_type": "code",
      "metadata": {
        "id": "1TiK2eCaMemR",
        "colab": {
          "base_uri": "https://localhost:8080/"
        },
        "collapsed": true,
        "outputId": "5011a41a-7853-4132-ebf0-6d85feb42188"
      },
      "source": [
        "print(str(5) == '5')"
      ],
      "execution_count": null,
      "outputs": [
        {
          "output_type": "stream",
          "text": [
            "True\n"
          ],
          "name": "stdout"
        }
      ]
    },
    {
      "cell_type": "markdown",
      "metadata": {
        "id": "c5i73qg0MemR"
      },
      "source": [
        "``` ```"
      ]
    },
    {
      "cell_type": "markdown",
      "metadata": {
        "id": "hx4JdfCGMemR"
      },
      "source": [
        "```# 5. Concatenation```\n"
      ]
    },
    {
      "cell_type": "code",
      "metadata": {
        "id": "EDdsPWoBMemS",
        "colab": {
          "base_uri": "https://localhost:8080/"
        },
        "collapsed": true,
        "outputId": "631b6c5d-f40a-4f94-b014-51c7c690e2a6"
      },
      "source": [
        "print(\"Ma\" + \"hatma\")"
      ],
      "execution_count": null,
      "outputs": [
        {
          "output_type": "stream",
          "text": [
            "Mahatma\n"
          ],
          "name": "stdout"
        }
      ]
    },
    {
      "cell_type": "markdown",
      "metadata": {
        "id": "yKyAaiZtMemS"
      },
      "source": [
        "``` ```"
      ]
    },
    {
      "cell_type": "markdown",
      "metadata": {
        "id": "aXdiTKsqMemS"
      },
      "source": [
        "```# Whitespace chars:```\n",
        "\n",
        "```# Newline \\n,```\n",
        "\n",
        "```# Space \\s,```\n",
        "\n",
        "```# Tab \\t```\n"
      ]
    },
    {
      "cell_type": "markdown",
      "metadata": {
        "id": "sx1JmC5xMemT"
      },
      "source": [
        "``` ```"
      ]
    },
    {
      "cell_type": "markdown",
      "metadata": {
        "id": "dAvR447oMemT"
      },
      "source": [
        "### Indexing and Slicing\n"
      ]
    },
    {
      "cell_type": "code",
      "metadata": {
        "id": "23NtlVySMemT"
      },
      "source": [
        "s = \"The youngest pope was 11 years\""
      ],
      "execution_count": null,
      "outputs": []
    },
    {
      "cell_type": "code",
      "metadata": {
        "id": "x0ZFSqc2MemT",
        "colab": {
          "base_uri": "https://localhost:8080/"
        },
        "collapsed": true,
        "outputId": "63648963-6c0b-4f6b-f5c8-6402f6139abb"
      },
      "source": [
        "print(s[0])"
      ],
      "execution_count": null,
      "outputs": [
        {
          "output_type": "stream",
          "text": [
            "T\n"
          ],
          "name": "stdout"
        }
      ]
    },
    {
      "cell_type": "code",
      "metadata": {
        "id": "1qABDb0EMemT",
        "colab": {
          "base_uri": "https://localhost:8080/"
        },
        "collapsed": true,
        "outputId": "cb2a0123-24bc-43df-cad1-17a8b77a715d"
      },
      "source": [
        "print(s[1:3]) "
      ],
      "execution_count": null,
      "outputs": [
        {
          "output_type": "stream",
          "text": [
            "he\n"
          ],
          "name": "stdout"
        }
      ]
    },
    {
      "cell_type": "code",
      "metadata": {
        "id": "uenHX8IJMemT",
        "colab": {
          "base_uri": "https://localhost:8080/"
        },
        "collapsed": true,
        "outputId": "e7c87f10-87b6-4e26-bc5c-9f4a6150fda5"
      },
      "source": [
        "print(s[-3:-1])"
      ],
      "execution_count": null,
      "outputs": [
        {
          "output_type": "stream",
          "text": [
            "ar\n"
          ],
          "name": "stdout"
        }
      ]
    },
    {
      "cell_type": "code",
      "metadata": {
        "id": "wvKgO-RGMemU",
        "colab": {
          "base_uri": "https://localhost:8080/"
        },
        "collapsed": true,
        "outputId": "28786948-4066-428e-ea3a-5d1662f36f9d"
      },
      "source": [
        "print(s[-3:])"
      ],
      "execution_count": null,
      "outputs": [
        {
          "output_type": "stream",
          "text": [
            "ars\n"
          ],
          "name": "stdout"
        }
      ]
    },
    {
      "cell_type": "markdown",
      "metadata": {
        "id": "MyQ_gqhOMemU"
      },
      "source": [
        "``` ```"
      ]
    },
    {
      "cell_type": "code",
      "metadata": {
        "id": "lpSdTKVbMemU",
        "colab": {
          "base_uri": "https://localhost:8080/"
        },
        "collapsed": true,
        "outputId": "a12b4452-fcc1-4a41-f195-5a448cacafbd"
      },
      "source": [
        "x = s.split()\n",
        "print(x)\n",
        "print(x[-2] + \" \" + x[2] + \"s\")"
      ],
      "execution_count": null,
      "outputs": [
        {
          "output_type": "stream",
          "text": [
            "['The', 'youngest', 'pope', 'was', '11', 'years']\n",
            "11 popes\n"
          ],
          "name": "stdout"
        }
      ]
    },
    {
      "cell_type": "markdown",
      "metadata": {
        "id": "1u37ujkuMemU"
      },
      "source": [
        "``` ```"
      ]
    },
    {
      "cell_type": "markdown",
      "metadata": {
        "id": "wnrrE9DrMemU"
      },
      "source": [
        "### String Methods\n"
      ]
    },
    {
      "cell_type": "code",
      "metadata": {
        "id": "5L56LjgIMemU"
      },
      "source": [
        "y = \" Hello world\\t\\n \""
      ],
      "execution_count": null,
      "outputs": []
    },
    {
      "cell_type": "code",
      "metadata": {
        "id": "Wlr96N-FMemV",
        "colab": {
          "base_uri": "https://localhost:8080/"
        },
        "collapsed": true,
        "outputId": "be4cf8f4-9225-4fcc-eb78-c1909f84fe95"
      },
      "source": [
        "print(y.strip()) # Remove Whitespace"
      ],
      "execution_count": null,
      "outputs": [
        {
          "output_type": "stream",
          "text": [
            "Hello world\n"
          ],
          "name": "stdout"
        }
      ]
    },
    {
      "cell_type": "code",
      "metadata": {
        "id": "GTaW3a9xMemV",
        "colab": {
          "base_uri": "https://localhost:8080/"
        },
        "collapsed": true,
        "outputId": "bbf69898-e519-461b-a98b-ad56b61b16d9"
      },
      "source": [
        "print(\"HI\".lower())"
      ],
      "execution_count": null,
      "outputs": [
        {
          "output_type": "stream",
          "text": [
            "hi\n"
          ],
          "name": "stdout"
        }
      ]
    },
    {
      "cell_type": "code",
      "metadata": {
        "id": "T6C5tnq9MemV",
        "colab": {
          "base_uri": "https://localhost:8080/"
        },
        "collapsed": true,
        "outputId": "992fcfba-bdbf-4061-e6c6-679fb35e4c81"
      },
      "source": [
        "print(\"hi\".upper())"
      ],
      "execution_count": null,
      "outputs": [
        {
          "output_type": "stream",
          "text": [
            "HI\n"
          ],
          "name": "stdout"
        }
      ]
    },
    {
      "cell_type": "code",
      "metadata": {
        "id": "tOxT09x8MemV",
        "colab": {
          "base_uri": "https://localhost:8080/"
        },
        "collapsed": true,
        "outputId": "d94fec2c-247a-4483-8502-3384be16692d"
      },
      "source": [
        "print(\"hello\".startswith(\"he\"))"
      ],
      "execution_count": null,
      "outputs": [
        {
          "output_type": "stream",
          "text": [
            "True\n"
          ],
          "name": "stdout"
        }
      ]
    },
    {
      "cell_type": "code",
      "metadata": {
        "id": "edNqj63iMemV",
        "colab": {
          "base_uri": "https://localhost:8080/"
        },
        "collapsed": true,
        "outputId": "469a7b9f-aec9-44a1-c99a-f04f80b304f4"
      },
      "source": [
        "print(\"hello\".endswith(\"lo\")) "
      ],
      "execution_count": null,
      "outputs": [
        {
          "output_type": "stream",
          "text": [
            "True\n"
          ],
          "name": "stdout"
        }
      ]
    },
    {
      "cell_type": "code",
      "metadata": {
        "id": "jxBjpptPMemV",
        "colab": {
          "base_uri": "https://localhost:8080/"
        },
        "collapsed": true,
        "outputId": "577f7e25-6d4d-4dcc-bd0b-39f556c5b9b8"
      },
      "source": [
        "print(\"hello\".find(\"ll\")) "
      ],
      "execution_count": null,
      "outputs": [
        {
          "output_type": "stream",
          "text": [
            "2\n"
          ],
          "name": "stdout"
        }
      ]
    },
    {
      "cell_type": "code",
      "metadata": {
        "id": "FzNj3QtwMemW",
        "colab": {
          "base_uri": "https://localhost:8080/"
        },
        "collapsed": true,
        "outputId": "b16aac59-4390-4d85-bdb5-822d224deb83"
      },
      "source": [
        "print(\"cheat\".replace(\"ch\", \"m\"))"
      ],
      "execution_count": null,
      "outputs": [
        {
          "output_type": "stream",
          "text": [
            "meat\n"
          ],
          "name": "stdout"
        }
      ]
    },
    {
      "cell_type": "code",
      "metadata": {
        "id": "o6OjCJQ_MemW",
        "colab": {
          "base_uri": "https://localhost:8080/"
        },
        "collapsed": true,
        "outputId": "5ca2f40e-099f-44b8-f84d-30fa14f076ac"
      },
      "source": [
        "print(''.join([\"F\", \"B\", \"I\"]))"
      ],
      "execution_count": null,
      "outputs": [
        {
          "output_type": "stream",
          "text": [
            "FBI\n"
          ],
          "name": "stdout"
        }
      ]
    },
    {
      "cell_type": "code",
      "metadata": {
        "id": "nMtScIQxMemW",
        "colab": {
          "base_uri": "https://localhost:8080/"
        },
        "collapsed": true,
        "outputId": "4ea936a2-3cd8-45b4-ba9e-ef924b45e3fa"
      },
      "source": [
        "print(len(\"hello world\")) "
      ],
      "execution_count": null,
      "outputs": [
        {
          "output_type": "stream",
          "text": [
            "11\n"
          ],
          "name": "stdout"
        }
      ]
    },
    {
      "cell_type": "code",
      "metadata": {
        "id": "ywOX7votMemW",
        "colab": {
          "base_uri": "https://localhost:8080/"
        },
        "collapsed": true,
        "outputId": "8a9be172-1c5f-425c-db43-efcc8ee300e5"
      },
      "source": [
        "print(\"ear\" in \"earth\") "
      ],
      "execution_count": null,
      "outputs": [
        {
          "output_type": "stream",
          "text": [
            "True\n"
          ],
          "name": "stdout"
        }
      ]
    },
    {
      "cell_type": "markdown",
      "metadata": {
        "id": "iYFzck0UMemW"
      },
      "source": [
        "``` ```"
      ]
    },
    {
      "cell_type": "markdown",
      "metadata": {
        "id": "OUKYJ5hhMemW"
      },
      "source": [
        "```# If you don’t want characters prefaced by \\ to be interpreted as special ```\n",
        "\n",
        "```# characters, you can use raw strings by adding an r before the first quote:```\n"
      ]
    },
    {
      "cell_type": "code",
      "metadata": {
        "id": "EBkzZ7hDMemX",
        "colab": {
          "base_uri": "https://localhost:8080/"
        },
        "collapsed": true,
        "outputId": "f548e6b9-702b-42b0-c8ae-292f0fdde3db"
      },
      "source": [
        "print('C:\\some\\name')"
      ],
      "execution_count": null,
      "outputs": [
        {
          "output_type": "stream",
          "text": [
            "C:\\some\n",
            "ame\n"
          ],
          "name": "stdout"
        }
      ]
    },
    {
      "cell_type": "code",
      "metadata": {
        "id": "wmTamrExMemX",
        "colab": {
          "base_uri": "https://localhost:8080/"
        },
        "collapsed": true,
        "outputId": "d1f196f0-d87a-4e23-ecff-ef759aae4b1c"
      },
      "source": [
        "print(r'C:\\some\\name')"
      ],
      "execution_count": null,
      "outputs": [
        {
          "output_type": "stream",
          "text": [
            "C:\\some\\name\n"
          ],
          "name": "stdout"
        }
      ]
    },
    {
      "cell_type": "markdown",
      "metadata": {
        "id": "AAqt51qgMemX"
      },
      "source": [
        "``` ```"
      ]
    },
    {
      "cell_type": "markdown",
      "metadata": {
        "id": "a9eU0CXRMemX"
      },
      "source": [
        "### String format\n"
      ]
    },
    {
      "cell_type": "code",
      "metadata": {
        "id": "Um8WcFF5MemX"
      },
      "source": [
        "SubString = \"Format examples\""
      ],
      "execution_count": null,
      "outputs": []
    },
    {
      "cell_type": "code",
      "metadata": {
        "id": "BKN4swmuMemY",
        "colab": {
          "base_uri": "https://localhost:8080/"
        },
        "collapsed": true,
        "outputId": "55c995e5-df02-4fc9-b89d-d4f61c63667e"
      },
      "source": [
        "print(\"%-20s: %d %02d %8d %lf %15.3lf %e\" % (\n",
        "    SubString,\n",
        "    2,\n",
        "    2,\n",
        "    2,\n",
        "    pi,\n",
        "    pi,\n",
        "    pi\n",
        "))"
      ],
      "execution_count": null,
      "outputs": [
        {
          "output_type": "stream",
          "text": [
            "Format examples     : 2 02        2 3.141593           3.142 3.141593e+00\n"
          ],
          "name": "stdout"
        }
      ]
    },
    {
      "cell_type": "markdown",
      "metadata": {
        "id": "U_12sRc5MemZ"
      },
      "source": [
        "``` ```"
      ]
    },
    {
      "cell_type": "markdown",
      "metadata": {
        "id": "v0OfMHN8MemZ"
      },
      "source": [
        "``` ```"
      ]
    },
    {
      "cell_type": "markdown",
      "metadata": {
        "id": "m84V3XX2Mema"
      },
      "source": [
        "## Complex numbers"
      ]
    },
    {
      "cell_type": "markdown",
      "metadata": {
        "id": "lpw2KnreMema"
      },
      "source": [
        "```#--------------------------------------```\n"
      ]
    },
    {
      "cell_type": "markdown",
      "metadata": {
        "id": "3pMNJ5OPMema"
      },
      "source": [
        "```# Python also has built-in support for complex numbers, and uses the j or J ```\n"
      ]
    },
    {
      "cell_type": "markdown",
      "metadata": {
        "id": "WcgtaqcxMema"
      },
      "source": [
        "```# suffix to indicate the imaginary part (e.g. 3+5j).```\n"
      ]
    },
    {
      "cell_type": "code",
      "metadata": {
        "id": "gVWBabNLMema"
      },
      "source": [
        "z = 3+5j"
      ],
      "execution_count": null,
      "outputs": []
    },
    {
      "cell_type": "code",
      "metadata": {
        "id": "bwlmaUAtMema",
        "colab": {
          "base_uri": "https://localhost:8080/"
        },
        "collapsed": true,
        "outputId": "c0b3b484-9612-42c7-fb97-2b38c1fd56aa"
      },
      "source": [
        "print(z, type(z))"
      ],
      "execution_count": null,
      "outputs": [
        {
          "output_type": "stream",
          "text": [
            "(3+5j) <class 'complex'>\n"
          ],
          "name": "stdout"
        }
      ]
    },
    {
      "cell_type": "markdown",
      "metadata": {
        "id": "Qhobk-2TMemb"
      },
      "source": [
        "``` ```"
      ]
    },
    {
      "cell_type": "markdown",
      "metadata": {
        "id": "nytfl1HzMemb"
      },
      "source": [
        "``` ```"
      ]
    },
    {
      "cell_type": "markdown",
      "metadata": {
        "id": "_g55LeFFMemb"
      },
      "source": [
        "## Lists\n"
      ]
    },
    {
      "cell_type": "markdown",
      "metadata": {
        "id": "SJDNZbnFMemb"
      },
      "source": [
        "```#--------------------------------------```\n"
      ]
    },
    {
      "cell_type": "markdown",
      "metadata": {
        "id": "_ThB7-GCMemb"
      },
      "source": [
        "```# They are ORDERED```\n"
      ]
    },
    {
      "cell_type": "markdown",
      "metadata": {
        "id": "idJ4IRopMemb"
      },
      "source": [
        "``` ```"
      ]
    },
    {
      "cell_type": "code",
      "metadata": {
        "id": "13wzERcTMemc"
      },
      "source": [
        "squares = [1, 4, 9, 16, 25]"
      ],
      "execution_count": null,
      "outputs": []
    },
    {
      "cell_type": "code",
      "metadata": {
        "id": "lizufhC5Memc",
        "colab": {
          "base_uri": "https://localhost:8080/"
        },
        "collapsed": true,
        "outputId": "6546c6c1-0bff-4d34-8ac1-b4cee46821da"
      },
      "source": [
        "print(squares)"
      ],
      "execution_count": null,
      "outputs": [
        {
          "output_type": "stream",
          "text": [
            "[1, 4, 9, 16, 25]\n"
          ],
          "name": "stdout"
        }
      ]
    },
    {
      "cell_type": "markdown",
      "metadata": {
        "id": "Je_nPqmDMemc"
      },
      "source": [
        "``` ```"
      ]
    },
    {
      "cell_type": "markdown",
      "metadata": {
        "id": "wxtTLNdNMemc"
      },
      "source": [
        "```# Like strings (and all other built-in sequence types), lists can be indexed ```\n"
      ]
    },
    {
      "cell_type": "markdown",
      "metadata": {
        "id": "lvARpMFdMemc"
      },
      "source": [
        "```# and sliced:```\n"
      ]
    },
    {
      "cell_type": "code",
      "metadata": {
        "id": "T3RXTO1VMemd",
        "colab": {
          "base_uri": "https://localhost:8080/"
        },
        "collapsed": true,
        "outputId": "b1538813-0d33-4c5f-9de4-8c0668f460fc"
      },
      "source": [
        "print(squares[0])  # indexing returns the item"
      ],
      "execution_count": null,
      "outputs": [
        {
          "output_type": "stream",
          "text": [
            "1\n"
          ],
          "name": "stdout"
        }
      ]
    },
    {
      "cell_type": "code",
      "metadata": {
        "id": "QMbYgLQtMemd",
        "colab": {
          "base_uri": "https://localhost:8080/"
        },
        "collapsed": true,
        "outputId": "0e4e8348-c874-4c43-fd05-3bee7b0acdf9"
      },
      "source": [
        "print(squares[-1])"
      ],
      "execution_count": null,
      "outputs": [
        {
          "output_type": "stream",
          "text": [
            "25\n"
          ],
          "name": "stdout"
        }
      ]
    },
    {
      "cell_type": "code",
      "metadata": {
        "id": "8956rgiBMemd",
        "colab": {
          "base_uri": "https://localhost:8080/"
        },
        "collapsed": true,
        "outputId": "437f1311-9006-41be-c699-910196d24514"
      },
      "source": [
        "print(squares[-3:])  # slicing returns a new list"
      ],
      "execution_count": null,
      "outputs": [
        {
          "output_type": "stream",
          "text": [
            "[9, 16, 25]\n"
          ],
          "name": "stdout"
        }
      ]
    },
    {
      "cell_type": "markdown",
      "metadata": {
        "id": "mWHQUp2zMemd"
      },
      "source": [
        "``` ```"
      ]
    },
    {
      "cell_type": "markdown",
      "metadata": {
        "id": "ChHmzV4XMemd"
      },
      "source": [
        "```# All slice following slice returns a new (shallow) copy of the list:```\n"
      ]
    },
    {
      "cell_type": "code",
      "metadata": {
        "id": "192Xu_XpMemd"
      },
      "source": [
        "squares_copy = squares[:]"
      ],
      "execution_count": null,
      "outputs": []
    },
    {
      "cell_type": "markdown",
      "metadata": {
        "id": "qwQb_kTIMemd"
      },
      "source": [
        "``` ```"
      ]
    },
    {
      "cell_type": "markdown",
      "metadata": {
        "id": "uroVLeUWMeme"
      },
      "source": [
        "```# Lists also support operations like concatenation:```\n"
      ]
    },
    {
      "cell_type": "code",
      "metadata": {
        "id": "SAEsKwqDMeme"
      },
      "source": [
        "squares = squares + [36, 49, 64, 81, 100]"
      ],
      "execution_count": null,
      "outputs": []
    },
    {
      "cell_type": "markdown",
      "metadata": {
        "id": "bt7psbIbMeme"
      },
      "source": [
        "``` ```"
      ]
    },
    {
      "cell_type": "code",
      "metadata": {
        "id": "KhGIi-YBMeme",
        "colab": {
          "base_uri": "https://localhost:8080/"
        },
        "collapsed": true,
        "outputId": "f2826545-c925-403b-e878-4aba93ac1d98"
      },
      "source": [
        "print(squares)"
      ],
      "execution_count": null,
      "outputs": [
        {
          "output_type": "stream",
          "text": [
            "[1, 4, 9, 16, 25, 36, 49, 64, 81, 100, 36, 49, 64, 81, 100]\n"
          ],
          "name": "stdout"
        }
      ]
    },
    {
      "cell_type": "code",
      "metadata": {
        "id": "WoeYlAmXMeme",
        "colab": {
          "base_uri": "https://localhost:8080/"
        },
        "collapsed": true,
        "outputId": "86311208-ec75-4027-cf22-874973116bfa"
      },
      "source": [
        "print(squares_copy)"
      ],
      "execution_count": null,
      "outputs": [
        {
          "output_type": "stream",
          "text": [
            "[1, 4, 9, 16, 25, 36, 49, 64, 81, 100, 36, 49, 64, 81, 100]\n"
          ],
          "name": "stdout"
        }
      ]
    },
    {
      "cell_type": "markdown",
      "metadata": {
        "id": "4iyt1l2hMeme"
      },
      "source": [
        "``` ```"
      ]
    },
    {
      "cell_type": "markdown",
      "metadata": {
        "id": "9PTng3AjMemf"
      },
      "source": [
        "```# Unlike strings, which are immutable, lists are a mutable type, i.e. it is ```\n"
      ]
    },
    {
      "cell_type": "markdown",
      "metadata": {
        "id": "RuJWkfIyMemf"
      },
      "source": [
        "```# possible to change their content:```\n"
      ]
    },
    {
      "cell_type": "code",
      "metadata": {
        "id": "eapBBNqnMemf"
      },
      "source": [
        "cubes = [1, 8, 27, 65, 125]  # something's wrong here"
      ],
      "execution_count": null,
      "outputs": []
    },
    {
      "cell_type": "code",
      "metadata": {
        "id": "B3wTQpYDMemf",
        "colab": {
          "base_uri": "https://localhost:8080/"
        },
        "collapsed": true,
        "outputId": "21b3915d-f9a2-4270-c967-f7136b44498b"
      },
      "source": [
        "print(4 ** 3)  # the cube of 4 is 64, not 65!"
      ],
      "execution_count": null,
      "outputs": [
        {
          "output_type": "stream",
          "text": [
            "64\n"
          ],
          "name": "stdout"
        }
      ]
    },
    {
      "cell_type": "code",
      "metadata": {
        "id": "rvGy-ZisMemf"
      },
      "source": [
        "cubes[3] = 64  # replace the wrong value"
      ],
      "execution_count": null,
      "outputs": []
    },
    {
      "cell_type": "code",
      "metadata": {
        "id": "RTII5S5NMemf",
        "colab": {
          "base_uri": "https://localhost:8080/"
        },
        "collapsed": true,
        "outputId": "048ac850-c59f-4ca9-e68c-86deda6a2056"
      },
      "source": [
        "print(cubes)"
      ],
      "execution_count": null,
      "outputs": [
        {
          "output_type": "stream",
          "text": [
            "[1, 8, 27, 64, 125]\n"
          ],
          "name": "stdout"
        }
      ]
    },
    {
      "cell_type": "markdown",
      "metadata": {
        "id": "HmtpY8sfMemg"
      },
      "source": [
        "``` ```"
      ]
    },
    {
      "cell_type": "markdown",
      "metadata": {
        "id": "6B09JMvdMemg"
      },
      "source": [
        "```# You can also add new items at the end of the list, by using the append() ```\n",
        "\n",
        "```# method (we will see more about methods later):```\n"
      ]
    },
    {
      "cell_type": "code",
      "metadata": {
        "id": "CzNi6feyMemg"
      },
      "source": [
        "cubes.append(216)  # add the cube of 6"
      ],
      "execution_count": null,
      "outputs": []
    },
    {
      "cell_type": "code",
      "metadata": {
        "id": "A_armYWVMemg"
      },
      "source": [
        "cubes.append(7 ** 3)  # and the cube of 7"
      ],
      "execution_count": null,
      "outputs": []
    },
    {
      "cell_type": "code",
      "metadata": {
        "id": "LaJ7PUNEMemg",
        "colab": {
          "base_uri": "https://localhost:8080/"
        },
        "collapsed": true,
        "outputId": "9e3b4b42-27c6-460a-a615-a0132b68adfa"
      },
      "source": [
        "print(cubes)"
      ],
      "execution_count": null,
      "outputs": [
        {
          "output_type": "stream",
          "text": [
            "[1, 8, 27, 64, 125, 216, 343]\n"
          ],
          "name": "stdout"
        }
      ]
    },
    {
      "cell_type": "markdown",
      "metadata": {
        "id": "0whpFfNtMemh"
      },
      "source": [
        "``` ```"
      ]
    },
    {
      "cell_type": "markdown",
      "metadata": {
        "id": "CAh6kunBMemh"
      },
      "source": [
        "```# Assignment to slices is also possible, and this can even change the size of ```\n",
        "\n",
        "```# the list or clear it entirely:```\n"
      ]
    },
    {
      "cell_type": "code",
      "metadata": {
        "id": "s2ni5U-_Memh"
      },
      "source": [
        "letters = ['a', 'b', 'c', 'd', 'e', 'f', 'g']"
      ],
      "execution_count": null,
      "outputs": []
    },
    {
      "cell_type": "code",
      "metadata": {
        "id": "jbLgRVxkMemh",
        "colab": {
          "base_uri": "https://localhost:8080/"
        },
        "collapsed": true,
        "outputId": "9e9912b6-66e7-4f2d-aed1-390f7301cfaf"
      },
      "source": [
        "print(letters)"
      ],
      "execution_count": null,
      "outputs": [
        {
          "output_type": "stream",
          "text": [
            "['a', 'b', 'c', 'd', 'e', 'f', 'g']\n"
          ],
          "name": "stdout"
        }
      ]
    },
    {
      "cell_type": "markdown",
      "metadata": {
        "id": "SxAanhMlMemh"
      },
      "source": [
        "``` ```"
      ]
    },
    {
      "cell_type": "markdown",
      "metadata": {
        "id": "qZQkkN0CMemi"
      },
      "source": [
        "```# replace some values```\n"
      ]
    },
    {
      "cell_type": "code",
      "metadata": {
        "id": "eAds3S9jMemi"
      },
      "source": [
        "letters[2:5] = ['C', 'D', 'E']"
      ],
      "execution_count": null,
      "outputs": []
    },
    {
      "cell_type": "code",
      "metadata": {
        "id": "lOzIE815Memi",
        "colab": {
          "base_uri": "https://localhost:8080/"
        },
        "collapsed": true,
        "outputId": "53097ed7-9f41-45af-f3b1-bb3f57f74261"
      },
      "source": [
        "print(letters)"
      ],
      "execution_count": null,
      "outputs": [
        {
          "output_type": "stream",
          "text": [
            "['a', 'b', 'C', 'D', 'E', 'f', 'g']\n"
          ],
          "name": "stdout"
        }
      ]
    },
    {
      "cell_type": "markdown",
      "metadata": {
        "id": "E3cScgMXMemi"
      },
      "source": [
        "``` ```"
      ]
    },
    {
      "cell_type": "markdown",
      "metadata": {
        "id": "9GWyGongMemi"
      },
      "source": [
        "```# now remove them```\n"
      ]
    },
    {
      "cell_type": "code",
      "metadata": {
        "id": "5UkOPsTsMemj"
      },
      "source": [
        "letters[2:5] = []"
      ],
      "execution_count": null,
      "outputs": []
    },
    {
      "cell_type": "code",
      "metadata": {
        "id": "F7GG_GtaMemj",
        "colab": {
          "base_uri": "https://localhost:8080/"
        },
        "collapsed": true,
        "outputId": "9f34d2f1-047e-4fd6-cdf7-7a451673b622"
      },
      "source": [
        "print(letters)"
      ],
      "execution_count": null,
      "outputs": [
        {
          "output_type": "stream",
          "text": [
            "['a', 'b', 'f', 'g']\n"
          ],
          "name": "stdout"
        }
      ]
    },
    {
      "cell_type": "markdown",
      "metadata": {
        "id": "TKetGjj4Memj"
      },
      "source": [
        "``` ```"
      ]
    },
    {
      "cell_type": "markdown",
      "metadata": {
        "id": "I0GKlKYCMemj"
      },
      "source": [
        "```# clear the list by replacing all the elements with an empty list```\n"
      ]
    },
    {
      "cell_type": "code",
      "metadata": {
        "id": "vMzhI344Memj"
      },
      "source": [
        "letters[:] = []"
      ],
      "execution_count": null,
      "outputs": []
    },
    {
      "cell_type": "code",
      "metadata": {
        "id": "Akm8Hz9jMemj",
        "colab": {
          "base_uri": "https://localhost:8080/"
        },
        "collapsed": true,
        "outputId": "77878ec0-255f-42bb-997e-0c39c9fca32b"
      },
      "source": [
        "print(letters)"
      ],
      "execution_count": null,
      "outputs": [
        {
          "output_type": "stream",
          "text": [
            "[]\n"
          ],
          "name": "stdout"
        }
      ]
    },
    {
      "cell_type": "markdown",
      "metadata": {
        "id": "BkvbYhwdMemk"
      },
      "source": [
        "``` ```"
      ]
    },
    {
      "cell_type": "markdown",
      "metadata": {
        "id": "v9dUk1X4Memk"
      },
      "source": [
        "```# The built-in function len() also applies to lists:```\n"
      ]
    },
    {
      "cell_type": "code",
      "metadata": {
        "id": "k7Y4p08XMemk"
      },
      "source": [
        "letters = ['a', 'b', 'c', 'd']"
      ],
      "execution_count": null,
      "outputs": []
    },
    {
      "cell_type": "code",
      "metadata": {
        "id": "whtfiF1eMemk",
        "colab": {
          "base_uri": "https://localhost:8080/"
        },
        "collapsed": true,
        "outputId": "0771ed28-91c3-48cb-828c-5513322718fe"
      },
      "source": [
        "print(len(letters))"
      ],
      "execution_count": null,
      "outputs": [
        {
          "output_type": "stream",
          "text": [
            "4\n"
          ],
          "name": "stdout"
        }
      ]
    },
    {
      "cell_type": "markdown",
      "metadata": {
        "id": "DQ544CZIMemk"
      },
      "source": [
        "``` ```"
      ]
    },
    {
      "cell_type": "markdown",
      "metadata": {
        "id": "liZF4TMWMemk"
      },
      "source": [
        "```# It is possible to nest lists (create lists containing other lists), for ```\n",
        "\n",
        "```# example:```\n"
      ]
    },
    {
      "cell_type": "code",
      "metadata": {
        "id": "tU8qld9lMeml"
      },
      "source": [
        "a = ['a', 'b', 'c']"
      ],
      "execution_count": null,
      "outputs": []
    },
    {
      "cell_type": "code",
      "metadata": {
        "id": "O2HcJfOLMeml"
      },
      "source": [
        "n = [1, 2, 3]"
      ],
      "execution_count": null,
      "outputs": []
    },
    {
      "cell_type": "code",
      "metadata": {
        "id": "RgwXWTPrMemm"
      },
      "source": [
        "x = [a, n]"
      ],
      "execution_count": null,
      "outputs": []
    },
    {
      "cell_type": "markdown",
      "metadata": {
        "id": "bn2YjiSMMemm"
      },
      "source": [
        "``` ```"
      ]
    },
    {
      "cell_type": "code",
      "metadata": {
        "id": "y6GiMgLzMemm",
        "colab": {
          "base_uri": "https://localhost:8080/"
        },
        "collapsed": true,
        "outputId": "4a8ed928-364e-402d-ced4-b50bf7a8cb16"
      },
      "source": [
        "print(x)"
      ],
      "execution_count": null,
      "outputs": [
        {
          "output_type": "stream",
          "text": [
            "[['a', 'b', 'c'], [1, 2, 3]]\n"
          ],
          "name": "stdout"
        }
      ]
    },
    {
      "cell_type": "code",
      "metadata": {
        "id": "6b5bkhpWMemm",
        "colab": {
          "base_uri": "https://localhost:8080/"
        },
        "collapsed": true,
        "outputId": "323ed05d-9a2b-4f87-9541-d9cb1f41e748"
      },
      "source": [
        "print(x[0])"
      ],
      "execution_count": null,
      "outputs": [
        {
          "output_type": "stream",
          "text": [
            "['a', 'b', 'c']\n"
          ],
          "name": "stdout"
        }
      ]
    },
    {
      "cell_type": "code",
      "metadata": {
        "id": "WiE2QJ29Memm",
        "colab": {
          "base_uri": "https://localhost:8080/"
        },
        "collapsed": true,
        "outputId": "b07de9df-cf7c-437e-aa70-65b8e4e8286a"
      },
      "source": [
        "print(x[0][1])"
      ],
      "execution_count": null,
      "outputs": [
        {
          "output_type": "stream",
          "text": [
            "b\n"
          ],
          "name": "stdout"
        }
      ]
    },
    {
      "cell_type": "markdown",
      "metadata": {
        "id": "RmX2QFDOMemm"
      },
      "source": [
        "``` ```"
      ]
    },
    {
      "cell_type": "markdown",
      "metadata": {
        "id": "pSVBVEGoMemm"
      },
      "source": [
        "``` ```"
      ]
    },
    {
      "cell_type": "markdown",
      "metadata": {
        "id": "IXV9BiI1Memn"
      },
      "source": [
        "## Dictionaries\n"
      ]
    },
    {
      "cell_type": "markdown",
      "metadata": {
        "id": "VEGcIze0cnnS"
      },
      "source": [
        "\n",
        "```#--------------------------------------```\n",
        "\n",
        "```# They are NOT ORDERED```\n",
        "\n",
        "``` ```\n",
        "```# Unlike lists, which are indexed by a range of numbers, dictionaries are ```\n",
        "\n",
        "```# indexed by keys, which can be any immutable type; strings and numbers can ```\n",
        "\n",
        "```# always be keys.```\n",
        "\n",
        "``` ```\n",
        "```# It is best to think of a dictionary as a set of key: value pairs, with the ```\n",
        "\n",
        "```# requirement that the keys are unique (within one dictionary). ```\n",
        "\n",
        "``` ```\n",
        "```# A pair of braces creates an empty dictionary: {}.```\n"
      ]
    },
    {
      "cell_type": "markdown",
      "metadata": {
        "id": "KpCoksMGMemo"
      },
      "source": [
        "``` ```"
      ]
    },
    {
      "cell_type": "code",
      "metadata": {
        "id": "OoKfcBOFMemo"
      },
      "source": [
        "calories = {'apple' : 52, 'banana' : 89, 'choco' : 546}"
      ],
      "execution_count": null,
      "outputs": []
    },
    {
      "cell_type": "markdown",
      "metadata": {
        "id": "9k4z8s0IMemp"
      },
      "source": [
        "``` ```"
      ]
    },
    {
      "cell_type": "code",
      "metadata": {
        "id": "b-68r80kMemp",
        "colab": {
          "base_uri": "https://localhost:8080/"
        },
        "collapsed": true,
        "outputId": "f9b54325-bbcb-4c17-ea00-0e1b55109bcd"
      },
      "source": [
        "print(calories.keys())"
      ],
      "execution_count": null,
      "outputs": [
        {
          "output_type": "stream",
          "text": [
            "dict_keys(['apple', 'banana', 'choco'])\n"
          ],
          "name": "stdout"
        }
      ]
    },
    {
      "cell_type": "code",
      "metadata": {
        "id": "oDRGTKNmMemp",
        "colab": {
          "base_uri": "https://localhost:8080/"
        },
        "collapsed": true,
        "outputId": "e0d37bc0-f774-41cb-d424-f05157dd16d1"
      },
      "source": [
        "for key in calories.keys():\n",
        "    print(key)"
      ],
      "execution_count": null,
      "outputs": [
        {
          "output_type": "stream",
          "text": [
            "apple\n",
            "banana\n",
            "choco\n"
          ],
          "name": "stdout"
        }
      ]
    },
    {
      "cell_type": "markdown",
      "metadata": {
        "id": "IE5GKMfrMemq"
      },
      "source": [
        "``` ```"
      ]
    },
    {
      "cell_type": "code",
      "metadata": {
        "id": "7TPVz09HMemq",
        "colab": {
          "base_uri": "https://localhost:8080/"
        },
        "collapsed": true,
        "outputId": "60fd44f1-fed9-4686-c708-40b223afc620"
      },
      "source": [
        "print(calories.values())"
      ],
      "execution_count": null,
      "outputs": [
        {
          "output_type": "stream",
          "text": [
            "dict_values([52, 89, 546])\n"
          ],
          "name": "stdout"
        }
      ]
    },
    {
      "cell_type": "code",
      "metadata": {
        "id": "sGGd6sVuMemq",
        "colab": {
          "base_uri": "https://localhost:8080/"
        },
        "collapsed": true,
        "outputId": "b043fbba-406c-41d7-e276-820463c6d294"
      },
      "source": [
        "for value in calories.values():\n",
        "    print(value)"
      ],
      "execution_count": null,
      "outputs": [
        {
          "output_type": "stream",
          "text": [
            "52\n",
            "89\n",
            "546\n"
          ],
          "name": "stdout"
        }
      ]
    },
    {
      "cell_type": "markdown",
      "metadata": {
        "id": "kPmS4WCVMemq"
      },
      "source": [
        "``` ```"
      ]
    },
    {
      "cell_type": "code",
      "metadata": {
        "id": "deYnCmFJMemq",
        "colab": {
          "base_uri": "https://localhost:8080/"
        },
        "collapsed": true,
        "outputId": "28682d33-12f3-40c8-b2c1-0ba2bff9bd83"
      },
      "source": [
        "print(calories['apple'] < calories['choco'])"
      ],
      "execution_count": null,
      "outputs": [
        {
          "output_type": "stream",
          "text": [
            "True\n"
          ],
          "name": "stdout"
        }
      ]
    },
    {
      "cell_type": "code",
      "metadata": {
        "id": "NeZ83otxMemq"
      },
      "source": [
        "calories['cappu'] = 74"
      ],
      "execution_count": null,
      "outputs": []
    },
    {
      "cell_type": "code",
      "metadata": {
        "id": "8rPUNtSRMemr",
        "colab": {
          "base_uri": "https://localhost:8080/"
        },
        "collapsed": true,
        "outputId": "b49708e4-5aa7-4981-b512-23c29c699f2d"
      },
      "source": [
        "print(calories['banana'] < calories['cappu'])"
      ],
      "execution_count": null,
      "outputs": [
        {
          "output_type": "stream",
          "text": [
            "False\n"
          ],
          "name": "stdout"
        }
      ]
    },
    {
      "cell_type": "code",
      "metadata": {
        "id": "pS9s4x4iMemr",
        "colab": {
          "base_uri": "https://localhost:8080/"
        },
        "collapsed": true,
        "outputId": "92d1b514-5b9d-4a0a-89cb-79c6291c8551"
      },
      "source": [
        "print('apple' in calories.keys())"
      ],
      "execution_count": null,
      "outputs": [
        {
          "output_type": "stream",
          "text": [
            "True\n"
          ],
          "name": "stdout"
        }
      ]
    },
    {
      "cell_type": "code",
      "metadata": {
        "id": "ffKMIErtMemr",
        "colab": {
          "base_uri": "https://localhost:8080/"
        },
        "collapsed": true,
        "outputId": "24e54507-7642-4754-9113-7ddbb1155cdf"
      },
      "source": [
        "print(52 in calories.values())"
      ],
      "execution_count": null,
      "outputs": [
        {
          "output_type": "stream",
          "text": [
            "True\n"
          ],
          "name": "stdout"
        }
      ]
    },
    {
      "cell_type": "markdown",
      "metadata": {
        "id": "LIPhb4UfMemr"
      },
      "source": [
        "``` ```"
      ]
    },
    {
      "cell_type": "markdown",
      "metadata": {
        "id": "d1wZ_U3WMemr"
      },
      "source": [
        "```# Loop over a dictionary```\n"
      ]
    },
    {
      "cell_type": "code",
      "metadata": {
        "id": "7bbRxbrmMemr",
        "colab": {
          "base_uri": "https://localhost:8080/"
        },
        "collapsed": true,
        "outputId": "51d3ae1a-44cd-466e-f6cf-2a7949db1ad6"
      },
      "source": [
        "for key, value in calories.items():\n",
        "    print(key) if value > 500 else None # 'chocolate'"
      ],
      "execution_count": null,
      "outputs": [
        {
          "output_type": "stream",
          "text": [
            "choco\n"
          ],
          "name": "stdout"
        }
      ]
    },
    {
      "cell_type": "markdown",
      "metadata": {
        "id": "T6i5tOAZMems"
      },
      "source": [
        "``` ```"
      ]
    },
    {
      "cell_type": "markdown",
      "metadata": {
        "id": "i0swzN3lMems"
      },
      "source": [
        "``` ```"
      ]
    },
    {
      "cell_type": "markdown",
      "metadata": {
        "id": "MzSJM1QDMems"
      },
      "source": [
        "``` ```"
      ]
    },
    {
      "cell_type": "markdown",
      "metadata": {
        "id": "ZQ8DWCOGMems"
      },
      "source": [
        "# Control Flow Statements\n"
      ]
    },
    {
      "cell_type": "markdown",
      "metadata": {
        "id": "PB2p3RLkMems"
      },
      "source": [
        "```#-------------------------------------------------------------------------------```\n"
      ]
    },
    {
      "cell_type": "markdown",
      "metadata": {
        "id": "DjLPuGe-Mems"
      },
      "source": [
        "``` ```"
      ]
    },
    {
      "cell_type": "markdown",
      "metadata": {
        "id": "kWCK-AUsMems"
      },
      "source": [
        "## if\n"
      ]
    },
    {
      "cell_type": "markdown",
      "metadata": {
        "id": "zFdy7fWBMems"
      },
      "source": [
        "```#--------------------------------------```\n"
      ]
    },
    {
      "cell_type": "markdown",
      "metadata": {
        "id": "WqW3rBmZMemt"
      },
      "source": [
        "```# Perhaps the most well-known statement type is the if statement. For example:```\n"
      ]
    },
    {
      "cell_type": "markdown",
      "metadata": {
        "id": "ns1NFFrTMemt"
      },
      "source": [
        "``` ```"
      ]
    },
    {
      "cell_type": "code",
      "metadata": {
        "id": "W3TrZrW2Memt"
      },
      "source": [
        "x = 2"
      ],
      "execution_count": null,
      "outputs": []
    },
    {
      "cell_type": "markdown",
      "metadata": {
        "id": "STwrBCH3Memt"
      },
      "source": [
        "``` ```"
      ]
    },
    {
      "cell_type": "code",
      "metadata": {
        "id": "w2TyElPUMemt",
        "colab": {
          "base_uri": "https://localhost:8080/"
        },
        "collapsed": true,
        "outputId": "670ad6de-35ff-4f6e-de5e-9f26071b57a0"
      },
      "source": [
        "if x < 0:\n",
        "    x = 0\n",
        "    print('Negative changed to zero')\n",
        "elif x == 0:\n",
        "    print('Zero')\n",
        "elif x == 1:\n",
        "    print('Single')\n",
        "else:\n",
        "    print('More')"
      ],
      "execution_count": null,
      "outputs": [
        {
          "output_type": "stream",
          "text": [
            "More\n"
          ],
          "name": "stdout"
        }
      ]
    },
    {
      "cell_type": "markdown",
      "metadata": {
        "id": "7aHHRXT1Memu"
      },
      "source": [
        "``` ```"
      ]
    },
    {
      "cell_type": "markdown",
      "metadata": {
        "id": "2cIhtMdmMemu"
      },
      "source": [
        "``` ```"
      ]
    },
    {
      "cell_type": "markdown",
      "metadata": {
        "id": "r0rM_zq3Memv"
      },
      "source": [
        "```# There can be zero or more elif parts, and the else part is optional. ```\n",
        "\n",
        "```# The keyword ‘elif’ is short for ‘else if’, and is useful to avoid excessive ```\n",
        "\n",
        "```# indentation. ```\n",
        "\n",
        "```# An if … elif … elif … sequence is a substitute for the switch or case ```\n",
        "\n",
        "```# statements found in other languages.```\n"
      ]
    },
    {
      "cell_type": "markdown",
      "metadata": {
        "id": "NV9CXzCMMemv"
      },
      "source": [
        "``` ```"
      ]
    },
    {
      "cell_type": "markdown",
      "metadata": {
        "id": "hQzIH8P0Memy"
      },
      "source": [
        "``` ```"
      ]
    },
    {
      "cell_type": "markdown",
      "metadata": {
        "id": "1fwEhgWOMemy"
      },
      "source": [
        "## for\n"
      ]
    },
    {
      "cell_type": "markdown",
      "metadata": {
        "id": "R7m4lmuYMemz"
      },
      "source": [
        "```#--------------------------------------```\n"
      ]
    },
    {
      "cell_type": "markdown",
      "metadata": {
        "id": "czO0C1j3Memz"
      },
      "source": [
        "```# Measure some strings:```\n"
      ]
    },
    {
      "cell_type": "code",
      "metadata": {
        "id": "jzO90Cs7Memz"
      },
      "source": [
        "words = ['cat', 'window', 'defenestrate']"
      ],
      "execution_count": null,
      "outputs": []
    },
    {
      "cell_type": "code",
      "metadata": {
        "id": "3LO7dHKYMemz",
        "colab": {
          "base_uri": "https://localhost:8080/"
        },
        "collapsed": true,
        "outputId": "31898240-17e9-4353-b5d3-5e6d677deed0"
      },
      "source": [
        "for w in words:\n",
        "    print(w, len(w))"
      ],
      "execution_count": null,
      "outputs": [
        {
          "output_type": "stream",
          "text": [
            "cat 3\n",
            "window 6\n",
            "defenestrate 12\n"
          ],
          "name": "stdout"
        }
      ]
    },
    {
      "cell_type": "markdown",
      "metadata": {
        "id": "pArS_e9zMemz"
      },
      "source": [
        "``` ```"
      ]
    },
    {
      "cell_type": "code",
      "metadata": {
        "id": "-qhpyU3eMem0",
        "colab": {
          "base_uri": "https://localhost:8080/"
        },
        "collapsed": true,
        "outputId": "338e896f-0939-473e-e7e3-9f0ab7d5444e"
      },
      "source": [
        "for i in range(5):\n",
        "    print(i)"
      ],
      "execution_count": null,
      "outputs": [
        {
          "output_type": "stream",
          "text": [
            "0\n",
            "1\n",
            "2\n",
            "3\n",
            "4\n"
          ],
          "name": "stdout"
        }
      ]
    },
    {
      "cell_type": "markdown",
      "metadata": {
        "id": "QaUdLdEoMem0"
      },
      "source": [
        "``` ```"
      ]
    },
    {
      "cell_type": "code",
      "metadata": {
        "id": "O378sxa1Mem0",
        "colab": {
          "base_uri": "https://localhost:8080/"
        },
        "collapsed": true,
        "outputId": "c32f0db4-1461-4635-eb7f-b9bb35b97c12"
      },
      "source": [
        "for i in range(1, 5):\n",
        "    print(i)"
      ],
      "execution_count": null,
      "outputs": [
        {
          "output_type": "stream",
          "text": [
            "1\n",
            "2\n",
            "3\n",
            "4\n"
          ],
          "name": "stdout"
        }
      ]
    },
    {
      "cell_type": "markdown",
      "metadata": {
        "id": "bkaQAjQMMem0"
      },
      "source": [
        "``` ```"
      ]
    },
    {
      "cell_type": "code",
      "metadata": {
        "id": "YhdMBt9wMem0",
        "colab": {
          "base_uri": "https://localhost:8080/"
        },
        "collapsed": true,
        "outputId": "f1c9ed05-a715-4480-9720-bd37bce510dd"
      },
      "source": [
        "for i in range(1, 10, 2):\n",
        "    print(i)"
      ],
      "execution_count": null,
      "outputs": [
        {
          "output_type": "stream",
          "text": [
            "1\n",
            "3\n",
            "5\n",
            "7\n",
            "9\n"
          ],
          "name": "stdout"
        }
      ]
    },
    {
      "cell_type": "code",
      "metadata": {
        "id": "eJZY6WVMMem0",
        "colab": {
          "base_uri": "https://localhost:8080/"
        },
        "collapsed": true,
        "outputId": "5e7a07c4-b9f5-4907-cc43-7adf6ee5c1c6"
      },
      "source": [
        "    print(i)"
      ],
      "execution_count": null,
      "outputs": [
        {
          "output_type": "stream",
          "text": [
            "9\n"
          ],
          "name": "stdout"
        }
      ]
    },
    {
      "cell_type": "markdown",
      "metadata": {
        "id": "h9g5pEppMem1"
      },
      "source": [
        "``` ```"
      ]
    },
    {
      "cell_type": "markdown",
      "metadata": {
        "id": "qfPmIuk1Mem1"
      },
      "source": [
        "``` ```"
      ]
    },
    {
      "cell_type": "markdown",
      "metadata": {
        "id": "DoXW7FaPMem1"
      },
      "source": [
        "## while\n"
      ]
    },
    {
      "cell_type": "code",
      "metadata": {
        "colab": {
          "base_uri": "https://localhost:8080/"
        },
        "collapsed": true,
        "id": "zG26ne1GXcGi",
        "outputId": "54a553d3-69f8-4a24-df1c-dee1c1b33277"
      },
      "source": [
        "a, b = 0, 1\n",
        "\n",
        "while a < 2000:\n",
        "    print(a, end=' ')\n",
        "    a, b = b, a+b "
      ],
      "execution_count": null,
      "outputs": [
        {
          "output_type": "stream",
          "text": [
            "0 1 1 2 3 5 8 13 21 34 55 89 144 233 377 610 987 1597 "
          ],
          "name": "stdout"
        }
      ]
    },
    {
      "cell_type": "markdown",
      "metadata": {
        "id": "LKZVgG5NanPx"
      },
      "source": [
        "``` ```"
      ]
    },
    {
      "cell_type": "markdown",
      "metadata": {
        "id": "2yLfQ9LlanP1"
      },
      "source": [
        "``` ```"
      ]
    },
    {
      "cell_type": "markdown",
      "metadata": {
        "id": "GPRIMihaXaVa"
      },
      "source": [
        "## break\n"
      ]
    },
    {
      "cell_type": "markdown",
      "metadata": {
        "id": "IGfIqO5VMem1"
      },
      "source": [
        "```#--------------------------------------```\n"
      ]
    },
    {
      "cell_type": "code",
      "metadata": {
        "id": "8hcornt2Mem1",
        "colab": {
          "base_uri": "https://localhost:8080/"
        },
        "collapsed": true,
        "outputId": "4d298c9c-0fe2-4689-cace-5493ee664cd6"
      },
      "source": [
        "for i in range(5):\n",
        "    print(i)\n",
        "\n",
        "    if i==2:\n",
        "        break"
      ],
      "execution_count": null,
      "outputs": [
        {
          "output_type": "stream",
          "text": [
            "0\n",
            "1\n",
            "2\n"
          ],
          "name": "stdout"
        }
      ]
    },
    {
      "cell_type": "markdown",
      "metadata": {
        "id": "dHNkowe5Mem2"
      },
      "source": [
        "``` ```"
      ]
    },
    {
      "cell_type": "markdown",
      "metadata": {
        "id": "GSjbdmg-Mem2"
      },
      "source": [
        "``` ```"
      ]
    },
    {
      "cell_type": "markdown",
      "metadata": {
        "id": "hCeQ1QujMem2"
      },
      "source": [
        "## continue \n"
      ]
    },
    {
      "cell_type": "markdown",
      "metadata": {
        "id": "viX2gG3LMem2"
      },
      "source": [
        "```#--------------------------------------```\n"
      ]
    },
    {
      "cell_type": "code",
      "metadata": {
        "id": "IL7XkTVPMem2",
        "colab": {
          "base_uri": "https://localhost:8080/"
        },
        "collapsed": true,
        "outputId": "355c34e4-0bd3-4d7a-aa23-466f2d41ab93"
      },
      "source": [
        "for i in range(5):\n",
        "    if i==2:\n",
        "        continue\n",
        "\n",
        "    print(i)"
      ],
      "execution_count": null,
      "outputs": [
        {
          "output_type": "stream",
          "text": [
            "0\n",
            "1\n",
            "3\n",
            "4\n"
          ],
          "name": "stdout"
        }
      ]
    },
    {
      "cell_type": "markdown",
      "metadata": {
        "id": "aFbLaP_3Mem3"
      },
      "source": [
        "``` ```"
      ]
    },
    {
      "cell_type": "markdown",
      "metadata": {
        "id": "4-lkgR7Vdn70"
      },
      "source": [
        "``` ```"
      ]
    },
    {
      "cell_type": "markdown",
      "metadata": {
        "id": "9HygSBQ_Mem3"
      },
      "source": [
        "## pass\n"
      ]
    },
    {
      "cell_type": "markdown",
      "metadata": {
        "id": "6K-k4WtbMem4"
      },
      "source": [
        "```#--------------------------------------```\n",
        "\n",
        "```# The pass statement does nothing. It can be used when a statement is required ```\n",
        "\n",
        "```# syntactically but the program requires no action```\n"
      ]
    },
    {
      "cell_type": "markdown",
      "metadata": {
        "id": "DgGD8XHDMem4"
      },
      "source": [
        "``` ```"
      ]
    },
    {
      "cell_type": "code",
      "metadata": {
        "id": "SDFwdxl-Mem4",
        "colab": {
          "base_uri": "https://localhost:8080/"
        },
        "collapsed": true,
        "outputId": "090204dc-5bd8-42fc-cf71-67c28b8a88a3"
      },
      "source": [
        "for i in range(5):\n",
        "    if i==2:\n",
        "        # Do nothing\n",
        "        pass # Without it, IndentationError\n",
        "        \n",
        "    print(i)"
      ],
      "execution_count": null,
      "outputs": [
        {
          "output_type": "stream",
          "text": [
            "0\n",
            "1\n",
            "2\n",
            "3\n",
            "4\n"
          ],
          "name": "stdout"
        }
      ]
    },
    {
      "cell_type": "markdown",
      "metadata": {
        "id": "xZ1oLU-wMem5"
      },
      "source": [
        "``` ```"
      ]
    },
    {
      "cell_type": "markdown",
      "metadata": {
        "id": "0vVufD6jMem5"
      },
      "source": [
        "``` ```"
      ]
    },
    {
      "cell_type": "markdown",
      "metadata": {
        "id": "tXtTa-1aMem6"
      },
      "source": [
        "``` ```"
      ]
    },
    {
      "cell_type": "markdown",
      "metadata": {
        "id": "khmgvnStMem6"
      },
      "source": [
        "# Functions\n"
      ]
    },
    {
      "cell_type": "markdown",
      "metadata": {
        "id": "32SUeDIuMem6"
      },
      "source": [
        "```#-------------------------------------------------------------------------------```\n"
      ]
    },
    {
      "cell_type": "code",
      "metadata": {
        "id": "CYzzBYZ3Mem6"
      },
      "source": [
        "def fib(n):    # write Fibonacci series up to n\n",
        "    \"\"\"Print a Fibonacci series up to n.\"\"\"\n",
        "    a, b = 0, 1\n",
        "    while a < n:\n",
        "        print(a, end=' ')\n",
        "        a, b = b, a+b\n",
        "    print()"
      ],
      "execution_count": null,
      "outputs": []
    },
    {
      "cell_type": "code",
      "metadata": {
        "id": "I4CQgqftMem7"
      },
      "source": [
        "def fib2(n):  # return Fibonacci series up to n\n",
        "    \"\"\"Return a list containing the Fibonacci series up to n.\"\"\"\n",
        "    result = []\n",
        "    a, b = 0, 1\n",
        "    while a < n:\n",
        "        result.append(a)    # see below\n",
        "        a, b = b, a+b\n",
        "    return result"
      ],
      "execution_count": null,
      "outputs": []
    },
    {
      "cell_type": "markdown",
      "metadata": {
        "id": "-oPnvX_0Mem8"
      },
      "source": [
        "``` ```"
      ]
    },
    {
      "cell_type": "markdown",
      "metadata": {
        "id": "VV6VrJf7Mem8"
      },
      "source": [
        "```# Now call the functions we just defined:```\n"
      ]
    },
    {
      "cell_type": "code",
      "metadata": {
        "id": "AAwjtLoEMem9",
        "colab": {
          "base_uri": "https://localhost:8080/"
        },
        "collapsed": true,
        "outputId": "9f6ec827-59ac-48c3-c237-d33911134a05"
      },
      "source": [
        "fib(2000)"
      ],
      "execution_count": null,
      "outputs": [
        {
          "output_type": "stream",
          "text": [
            "0 1 1 2 3 5 8 13 21 34 55 89 144 233 377 610 987 1597 \n"
          ],
          "name": "stdout"
        }
      ]
    },
    {
      "cell_type": "markdown",
      "metadata": {
        "id": "Zm1RvmIdMem9"
      },
      "source": [
        "``` ```"
      ]
    },
    {
      "cell_type": "code",
      "metadata": {
        "id": "pxqz4R3qMem9",
        "colab": {
          "base_uri": "https://localhost:8080/"
        },
        "collapsed": true,
        "outputId": "2c78715a-4314-4d0e-c686-c7142dbf53f2"
      },
      "source": [
        "f100 = fib2(100)    # call it\n",
        "print(f100)         # write the result"
      ],
      "execution_count": null,
      "outputs": [
        {
          "output_type": "stream",
          "text": [
            "[0, 1, 1, 2, 3, 5, 8, 13, 21, 34, 55, 89]\n"
          ],
          "name": "stdout"
        }
      ]
    },
    {
      "cell_type": "markdown",
      "metadata": {
        "id": "vDD-Q9xPMem9"
      },
      "source": [
        "``` ```"
      ]
    },
    {
      "cell_type": "markdown",
      "metadata": {
        "id": "E3hewhtoMem9"
      },
      "source": [
        "``` ```"
      ]
    },
    {
      "cell_type": "markdown",
      "metadata": {
        "id": "Di-_fj4VMem9"
      },
      "source": [
        "``` ```"
      ]
    },
    {
      "cell_type": "markdown",
      "metadata": {
        "id": "-5fEvGvMMem-"
      },
      "source": [
        "# Modules\n"
      ]
    },
    {
      "cell_type": "markdown",
      "metadata": {
        "id": "Ewz6Cwq0Mem-"
      },
      "source": [
        "```#-------------------------------------------------------------------------------```\n",
        "\n",
        "```# If you quit from the Python interpreter and enter it again, the definitions ```\n",
        "\n",
        "```# you have made (functions and variables) are lost. Therefore, if you want to ```\n",
        "\n",
        "```# write a somewhat longer program, you are better off using a text editor to ```\n",
        "\n",
        "```# prepare the input for the interpreter and running it with that file as input ```\n",
        "\n",
        "```# instead. This is known as creating a script. As your program gets longer, you ```\n",
        "\n",
        "```# may want to split it into several files for easier maintenance. You may also ```\n",
        "\n",
        "```# want to use a handy function that you’ve written in several programs without ```\n",
        "\n",
        "```# copying its definition into each program.```\n"
      ]
    },
    {
      "cell_type": "markdown",
      "metadata": {
        "id": "NxTTrWfAMem_"
      },
      "source": [
        "``` ```"
      ]
    },
    {
      "cell_type": "markdown",
      "metadata": {
        "id": "fZiAkNXuMem_"
      },
      "source": [
        "```# Add MY_MODULES to the Python's search path variable sys.path```\n"
      ]
    },
    {
      "cell_type": "code",
      "metadata": {
        "colab": {
          "base_uri": "https://localhost:8080/"
        },
        "id": "V97qqlvoJvvb",
        "outputId": "12988d58-9b1f-47e8-e944-81e10c85a1df"
      },
      "source": [
        "print(sys.path)"
      ],
      "execution_count": null,
      "outputs": [
        {
          "output_type": "stream",
          "text": [
            "['', '/content', '/env/python', '/usr/lib/python37.zip', '/usr/lib/python3.7', '/usr/lib/python3.7/lib-dynload', '/usr/local/lib/python3.7/dist-packages', '/usr/lib/python3/dist-packages', '/usr/local/lib/python3.7/dist-packages/IPython/extensions', '/root/.ipython', '/content/MY_MODULES']\n"
          ],
          "name": "stdout"
        }
      ]
    },
    {
      "cell_type": "code",
      "metadata": {
        "id": "Bd7oN5waMem_"
      },
      "source": [
        "sys.path.append(\"/content/MY_MODULES\")"
      ],
      "execution_count": null,
      "outputs": []
    },
    {
      "cell_type": "markdown",
      "metadata": {
        "id": "rxU2xwrbMem_"
      },
      "source": [
        "``` ```"
      ]
    },
    {
      "cell_type": "markdown",
      "metadata": {
        "id": "MojIZ4z6MenA"
      },
      "source": [
        "```# Now we can import fibo module```\n"
      ]
    },
    {
      "cell_type": "code",
      "metadata": {
        "id": "x6Hw7Z5FMenA"
      },
      "source": [
        "import fibo"
      ],
      "execution_count": null,
      "outputs": []
    },
    {
      "cell_type": "markdown",
      "metadata": {
        "id": "ZnfENj5yMenA"
      },
      "source": [
        "``` ```"
      ]
    },
    {
      "cell_type": "markdown",
      "metadata": {
        "id": "5QyR-65_MenA"
      },
      "source": [
        "```# Check all the names in fibo```\n"
      ]
    },
    {
      "cell_type": "code",
      "metadata": {
        "id": "p8LyPpF5MenA",
        "colab": {
          "base_uri": "https://localhost:8080/"
        },
        "collapsed": true,
        "outputId": "2fe86beb-e534-449a-a1ae-5fa356506321"
      },
      "source": [
        "print(dir(fibo))"
      ],
      "execution_count": null,
      "outputs": [
        {
          "output_type": "stream",
          "text": [
            "['__builtins__', '__cached__', '__doc__', '__file__', '__loader__', '__name__', '__package__', '__spec__', 'fib', 'fib2']\n"
          ],
          "name": "stdout"
        }
      ]
    },
    {
      "cell_type": "markdown",
      "metadata": {
        "id": "cpNs_i0pMenA"
      },
      "source": [
        "``` ```"
      ]
    },
    {
      "cell_type": "markdown",
      "metadata": {
        "id": "3YttUIHVMenA"
      },
      "source": [
        "```# We could have also import the functions one by one:```\n"
      ]
    },
    {
      "cell_type": "markdown",
      "metadata": {
        "id": "58HEy4K2MenB"
      },
      "source": [
        "```# from fibo import fib, fib2```\n"
      ]
    },
    {
      "cell_type": "code",
      "metadata": {
        "id": "TzKVEJsqgQVh"
      },
      "source": [
        "from fibo import fib, fib2"
      ],
      "execution_count": null,
      "outputs": []
    },
    {
      "cell_type": "markdown",
      "metadata": {
        "id": "fcb26gROMenB"
      },
      "source": [
        "``` ```"
      ]
    },
    {
      "cell_type": "markdown",
      "metadata": {
        "id": "EG1qzVttMenB"
      },
      "source": [
        "```# Or import all names except those beginning with an underscore (_)```\n"
      ]
    },
    {
      "cell_type": "markdown",
      "metadata": {
        "id": "JCvWhjSmMenB"
      },
      "source": [
        "```# from fibo import *```\n"
      ]
    },
    {
      "cell_type": "code",
      "metadata": {
        "id": "3LVCjeb6gSsE"
      },
      "source": [
        "from fibo import *"
      ],
      "execution_count": null,
      "outputs": []
    },
    {
      "cell_type": "markdown",
      "metadata": {
        "id": "7WYsWzJ6MenB"
      },
      "source": [
        "``` ```"
      ]
    },
    {
      "cell_type": "markdown",
      "metadata": {
        "id": "F4c6SPmhMenB"
      },
      "source": [
        "```# Or using an alias:```\n"
      ]
    },
    {
      "cell_type": "markdown",
      "metadata": {
        "id": "QFDcsXUkMenB"
      },
      "source": [
        "```# from fibo import fib as fibonacci```\n"
      ]
    },
    {
      "cell_type": "code",
      "metadata": {
        "id": "ASjajz5lgWui"
      },
      "source": [
        "from fibo import fib as fibonacci"
      ],
      "execution_count": null,
      "outputs": []
    },
    {
      "cell_type": "code",
      "metadata": {
        "colab": {
          "base_uri": "https://localhost:8080/"
        },
        "id": "qTVR4sdjLAkj",
        "outputId": "b3967f04-0166-474a-f3aa-ca45054a1be8"
      },
      "source": [
        "fibonacci(2000)"
      ],
      "execution_count": null,
      "outputs": [
        {
          "output_type": "stream",
          "text": [
            "0 1 1 2 3 5 8 13 21 34 55 89 144 233 377 610 987 1597 \n"
          ],
          "name": "stdout"
        }
      ]
    },
    {
      "cell_type": "markdown",
      "metadata": {
        "id": "7XvR9V60MenC"
      },
      "source": [
        "``` ```"
      ]
    },
    {
      "cell_type": "markdown",
      "metadata": {
        "id": "O0-dpPbqMenC"
      },
      "source": [
        "``` ```"
      ]
    },
    {
      "cell_type": "markdown",
      "metadata": {
        "id": "NSV-dxttMenC"
      },
      "source": [
        "# Files\n"
      ]
    },
    {
      "cell_type": "markdown",
      "metadata": {
        "id": "DRjGEqyJMenC"
      },
      "source": [
        "```#-------------------------------------------------------------------------------```\n"
      ]
    },
    {
      "cell_type": "markdown",
      "metadata": {
        "id": "DuyjjXOjMenC"
      },
      "source": [
        "```# open() returns a file object, and is most commonly used with two arguments: ```\n"
      ]
    },
    {
      "cell_type": "markdown",
      "metadata": {
        "id": "SNtXbUiOMenC"
      },
      "source": [
        "```# open(filename, mode).```\n"
      ]
    },
    {
      "cell_type": "code",
      "metadata": {
        "id": "72GaIa2eMenC"
      },
      "source": [
        "f = open('workfile.txt', 'w')"
      ],
      "execution_count": null,
      "outputs": []
    },
    {
      "cell_type": "markdown",
      "metadata": {
        "id": "MOnQR6IAMenD"
      },
      "source": [
        "``` ```"
      ]
    },
    {
      "cell_type": "markdown",
      "metadata": {
        "id": "FaBusuHrMenD"
      },
      "source": [
        "```# The first argument is a string containing the filename. The second argument ```\n",
        "\n",
        "```# is another string containing a few characters describing the way in which the ```\n",
        "\n",
        "```# file will be used. mode can be:```\n",
        "\n",
        "```#   'r' when the file will only be read, ```\n",
        "\n",
        "```#   'w' for only writing (an existing file with the same name will be erased),```\n",
        "\n",
        "```#   'a' opens the file for appending; any data written to the file is ```\n",
        "\n",
        "```#   automatically added to the end. 'r+' opens the file for both reading and ```\n",
        "\n",
        "```#   writing. ```\n",
        "\n",
        "```# The mode argument is optional; 'r' will be assumed if it’s omitted.```\n"
      ]
    },
    {
      "cell_type": "markdown",
      "metadata": {
        "id": "-ANm7yRGMenE"
      },
      "source": [
        "``` ```"
      ]
    },
    {
      "cell_type": "markdown",
      "metadata": {
        "id": "KFrhh1yBMenE"
      },
      "source": [
        "```# The file can be closed by calling the close() method```\n"
      ]
    },
    {
      "cell_type": "code",
      "metadata": {
        "id": "cNP_VYygMenF"
      },
      "source": [
        "f.close()"
      ],
      "execution_count": null,
      "outputs": []
    },
    {
      "cell_type": "markdown",
      "metadata": {
        "id": "i7IOGIkRMenF"
      },
      "source": [
        "``` ```"
      ]
    },
    {
      "cell_type": "markdown",
      "metadata": {
        "id": "wLpNK2yLMenF"
      },
      "source": [
        "```# But...```\n",
        "\n",
        "``` ```\n",
        "```# It is good practice to use the with keyword when dealing with file objects. ```\n",
        "\n",
        "```# The advantage is that the file is properly closed after its suite finishes```\n"
      ]
    },
    {
      "cell_type": "code",
      "metadata": {
        "id": "eYtLCrQAMenH",
        "colab": {
          "base_uri": "https://localhost:8080/"
        },
        "collapsed": true,
        "outputId": "f0748afb-8f3e-4cb0-af4a-8808d679603c"
      },
      "source": [
        "with open('workfile.txt') as f:\n",
        "    read_data = f.read()\n",
        "    print(read_data)\n",
        "    \n",
        "    # If the end of the file has been reached, f.read() will return an empty \n",
        "    # string ('').\n",
        "    read_data = f.read()\n",
        "    print(read_data)"
      ],
      "execution_count": null,
      "outputs": [
        {
          "output_type": "stream",
          "text": [
            "\n",
            "\n"
          ],
          "name": "stdout"
        }
      ]
    },
    {
      "cell_type": "markdown",
      "metadata": {
        "id": "lDIBRt_TMenJ"
      },
      "source": [
        "```# End of with open('workfile.txt') as f```\n"
      ]
    },
    {
      "cell_type": "markdown",
      "metadata": {
        "id": "id6vY3frMenJ"
      },
      "source": [
        "``` ```"
      ]
    },
    {
      "cell_type": "markdown",
      "metadata": {
        "id": "VFInBmOSMenJ"
      },
      "source": [
        "```# Check that file has been closed```\n"
      ]
    },
    {
      "cell_type": "code",
      "metadata": {
        "id": "zVKl2nx0MenJ",
        "colab": {
          "base_uri": "https://localhost:8080/"
        },
        "collapsed": true,
        "outputId": "07386613-4dc0-47fa-96ab-e117e15b6f6a"
      },
      "source": [
        "print(f.closed)"
      ],
      "execution_count": null,
      "outputs": [
        {
          "output_type": "stream",
          "text": [
            "True\n"
          ],
          "name": "stdout"
        }
      ]
    },
    {
      "cell_type": "markdown",
      "metadata": {
        "id": "CpdebsOoMenJ"
      },
      "source": [
        "``` ```"
      ]
    },
    {
      "cell_type": "markdown",
      "metadata": {
        "id": "V6KwLkOmMenK"
      },
      "source": [
        "```# Let's write some data in our file```\n"
      ]
    },
    {
      "cell_type": "code",
      "metadata": {
        "id": "iVBVmjneMenK"
      },
      "source": [
        "with open('workfile.txt', \"w\") as f:\n",
        "    f.write('This is the first line of the file.\\n')\n",
        "    f.write('This is the second line of the file.\\n')"
      ],
      "execution_count": null,
      "outputs": []
    },
    {
      "cell_type": "markdown",
      "metadata": {
        "id": "fuaYkuSCMenK"
      },
      "source": [
        "```# End of with open('workfile.txt') as f```\n"
      ]
    },
    {
      "cell_type": "markdown",
      "metadata": {
        "id": "DGpXk8NtMenK"
      },
      "source": [
        "``` ```"
      ]
    },
    {
      "cell_type": "markdown",
      "metadata": {
        "id": "_DElMOqwMenK"
      },
      "source": [
        "```# readline() method reads one line of the file```\n"
      ]
    },
    {
      "cell_type": "code",
      "metadata": {
        "id": "z-mtHZ4lMenL",
        "colab": {
          "base_uri": "https://localhost:8080/"
        },
        "collapsed": true,
        "outputId": "35c3a597-c271-4eab-a7b1-4bddcd3af308"
      },
      "source": [
        "with open('workfile.txt', \"r\") as f:\n",
        "    read_data = f.readline()\n",
        "    print(read_data)\n",
        "    read_data = f.readline()\n",
        "    print(read_data)"
      ],
      "execution_count": null,
      "outputs": [
        {
          "output_type": "stream",
          "text": [
            "This is the first line of the file.\n",
            "\n",
            "This is the second line of the file.\n",
            "\n"
          ],
          "name": "stdout"
        }
      ]
    },
    {
      "cell_type": "markdown",
      "metadata": {
        "id": "xhXS1wslMenL"
      },
      "source": [
        "```# End of with open('workfile.txt') as f```\n"
      ]
    },
    {
      "cell_type": "markdown",
      "metadata": {
        "id": "VNVtBF1LMenM"
      },
      "source": [
        "``` ```"
      ]
    },
    {
      "cell_type": "markdown",
      "metadata": {
        "id": "XmgFfpmAMenM"
      },
      "source": [
        "```# A more efficient way to read the file line by line```\n"
      ]
    },
    {
      "cell_type": "code",
      "metadata": {
        "id": "HB536qhrMenM",
        "colab": {
          "base_uri": "https://localhost:8080/"
        },
        "collapsed": true,
        "outputId": "549d7077-1d36-45ba-a865-8086b12a1504"
      },
      "source": [
        "with open('workfile.txt', \"r\") as f:\n",
        "    for line in f:\n",
        "        print(line)"
      ],
      "execution_count": null,
      "outputs": [
        {
          "output_type": "stream",
          "text": [
            "This is the first line of the file.\n",
            "\n",
            "This is the second line of the file.\n",
            "\n"
          ],
          "name": "stdout"
        }
      ]
    },
    {
      "cell_type": "markdown",
      "metadata": {
        "id": "J6hII29EMenM"
      },
      "source": [
        "```# End of with open('workfile.txt') as f```\n"
      ]
    },
    {
      "cell_type": "markdown",
      "metadata": {
        "id": "EpCvinEPMenM"
      },
      "source": [
        "``` ```"
      ]
    },
    {
      "cell_type": "markdown",
      "metadata": {
        "id": "iicJ1ACpMenN"
      },
      "source": [
        "```# Use tell() and seek() to move the file pointer```\n"
      ]
    },
    {
      "cell_type": "code",
      "metadata": {
        "id": "RQjnLJ-QMenN",
        "colab": {
          "base_uri": "https://localhost:8080/"
        },
        "collapsed": true,
        "outputId": "c425281a-ae4b-4ffd-e14b-5eb93f3cdf93"
      },
      "source": [
        "with open('workfile.txt', \"r\") as f:\n",
        "    # Save the reference\n",
        "    p = f.tell()\n",
        "    read_data = f.readline()\n",
        "    print(read_data)\n",
        "    # Move the pointer to the reference stored in p\n",
        "    f.seek(p)\n",
        "    read_data = f.readline()\n",
        "    print(read_data)"
      ],
      "execution_count": null,
      "outputs": [
        {
          "output_type": "stream",
          "text": [
            "This is the first line of the file.\n",
            "\n",
            "This is the first line of the file.\n",
            "\n"
          ],
          "name": "stdout"
        }
      ]
    },
    {
      "cell_type": "markdown",
      "metadata": {
        "id": "HGTOiV8GMenP"
      },
      "source": [
        "```# End of with open('workfile.txt') as f```\n"
      ]
    },
    {
      "cell_type": "markdown",
      "metadata": {
        "id": "iun6ADEeMenP"
      },
      "source": [
        "``` ```"
      ]
    },
    {
      "cell_type": "markdown",
      "metadata": {
        "id": "UnomOhXYMenP"
      },
      "source": [
        "```# An alternative way to read delimiter-separated values (DSV) files```\n"
      ]
    },
    {
      "cell_type": "markdown",
      "metadata": {
        "id": "Pf1MY2wOMenP"
      },
      "source": [
        "```# ----> Check titanic.dat```\n"
      ]
    },
    {
      "cell_type": "code",
      "metadata": {
        "id": "ez9Yie4WMenP",
        "colab": {
          "base_uri": "https://localhost:8080/"
        },
        "collapsed": true,
        "outputId": "f00673b8-8495-4176-b20f-b66133501adb"
      },
      "source": [
        "TitanicDataColumnsList = [\"PassengerId\", \"Survived\", \"Pclass\", \"Name\", \n",
        "                          \"Sex\", \"Age\", \"SibSp\", \"Parch\", \"Ticket\", \"Fare\", \n",
        "                          \"Cabin\", \"Embarked\"]\n",
        "from collections import OrderedDict\n",
        "TitanicDataIdx = OrderedDict({})\n",
        "for i, Id in enumerate(TitanicDataColumnsList):\n",
        "    TitanicDataIdx[Id] = i\n",
        "\n",
        "print(TitanicDataIdx)"
      ],
      "execution_count": null,
      "outputs": [
        {
          "output_type": "stream",
          "text": [
            "OrderedDict([('PassengerId', 0), ('Survived', 1), ('Pclass', 2), ('Name', 3), ('Sex', 4), ('Age', 5), ('SibSp', 6), ('Parch', 7), ('Ticket', 8), ('Fare', 9), ('Cabin', 10), ('Embarked', 11)])\n"
          ],
          "name": "stdout"
        }
      ]
    },
    {
      "cell_type": "markdown",
      "metadata": {
        "id": "DcO7IB1AMenR"
      },
      "source": [
        "``` ```"
      ]
    },
    {
      "cell_type": "code",
      "metadata": {
        "id": "O0GuQ-64MenR"
      },
      "source": [
        "from pandas import read_csv"
      ],
      "execution_count": null,
      "outputs": []
    },
    {
      "cell_type": "code",
      "metadata": {
        "id": "8Fb2L0RKMenR"
      },
      "source": [
        "read_data = read_csv(\"titanic.dat\", \n",
        "delim_whitespace=True, \n",
        "skiprows=1, \n",
        "header=None,\n",
        "usecols=[TitanicDataIdx[\"Survived\"],\n",
        "         TitanicDataIdx[\"Name\"]])"
      ],
      "execution_count": null,
      "outputs": []
    },
    {
      "cell_type": "markdown",
      "metadata": {
        "id": "-yuFCSdcMenS"
      },
      "source": [
        "``` ```"
      ]
    },
    {
      "cell_type": "code",
      "metadata": {
        "id": "4i6n5ef7MenS",
        "colab": {
          "base_uri": "https://localhost:8080/"
        },
        "collapsed": true,
        "outputId": "131892d5-d7af-4718-8f6d-c83e9475efd5"
      },
      "source": [
        "print(read_data)"
      ],
      "execution_count": null,
      "outputs": [
        {
          "output_type": "stream",
          "text": [
            "     1                                                  3\n",
            "0    0                           Braund   Mr. Owen Harris\n",
            "1    1  Cumings   Mrs. John Bradley (Florence Briggs T...\n",
            "2    1                            Heikkinen   Miss. Laina\n",
            "3    1      Futrelle   Mrs. Jacques Heath (Lily May Peel)\n",
            "4    0                          Allen   Mr. William Henry\n",
            "..  ..                                                ...\n",
            "886  0                             Montvila   Rev. Juozas\n",
            "887  1                      Graham   Miss. Margaret Edith\n",
            "888  0          Johnston   Miss. Catherine Helen \"Carrie\"\n",
            "889  1                             Behr   Mr. Karl Howell\n",
            "890  0                               Dooley   Mr. Patrick\n",
            "\n",
            "[891 rows x 2 columns]\n"
          ],
          "name": "stdout"
        }
      ]
    },
    {
      "cell_type": "markdown",
      "metadata": {
        "id": "CMypT4ceMenS"
      },
      "source": [
        "``` ```"
      ]
    },
    {
      "cell_type": "markdown",
      "metadata": {
        "id": "qYhOSgvmMenS"
      },
      "source": [
        "```# Filtering read data```\n"
      ]
    },
    {
      "cell_type": "code",
      "metadata": {
        "id": "UBfVt5RZMenT",
        "colab": {
          "base_uri": "https://localhost:8080/"
        },
        "collapsed": true,
        "outputId": "a94745b7-3f1d-41d4-84fb-8ff6c79c1db5"
      },
      "source": [
        "filter_cond = read_data[TitanicDataIdx[\"Survived\"]] == 1\n",
        "filtered_read_data = read_data[filter_cond]\n",
        "print(filtered_read_data)\n"
      ],
      "execution_count": null,
      "outputs": [
        {
          "output_type": "stream",
          "text": [
            "     1                                                  3\n",
            "1    1  Cumings   Mrs. John Bradley (Florence Briggs T...\n",
            "2    1                            Heikkinen   Miss. Laina\n",
            "3    1      Futrelle   Mrs. Jacques Heath (Lily May Peel)\n",
            "8    1  Johnson   Mrs. Oscar W (Elisabeth Vilhelmina B...\n",
            "9    1               Nasser   Mrs. Nicholas (Adele Achem)\n",
            "..  ..                                                ...\n",
            "875  1                  Najib   Miss. Adele Kiamie \"Jane\"\n",
            "879  1     Potter   Mrs. Thomas Jr (Lily Alexenia Wilson)\n",
            "880  1      Shelley   Mrs. William (Imanita Parrish Hall)\n",
            "887  1                      Graham   Miss. Margaret Edith\n",
            "889  1                             Behr   Mr. Karl Howell\n",
            "\n",
            "[342 rows x 2 columns]\n"
          ],
          "name": "stdout"
        }
      ]
    },
    {
      "cell_type": "markdown",
      "metadata": {
        "id": "AWy_z3V-MenT"
      },
      "source": [
        "``` ```"
      ]
    },
    {
      "cell_type": "markdown",
      "metadata": {
        "id": "1hTuihcxMenT"
      },
      "source": [
        "```# The same can be done using loc function```\n"
      ]
    },
    {
      "cell_type": "code",
      "metadata": {
        "id": "jNYkosaXMenT",
        "colab": {
          "base_uri": "https://localhost:8080/"
        },
        "collapsed": true,
        "outputId": "b4429e53-6464-493b-d5ad-fe276385bb46"
      },
      "source": [
        "filtered_read_data = read_data.loc[read_data[TitanicDataIdx[\"Survived\"]] == 1]\n",
        "print(filtered_read_data)"
      ],
      "execution_count": null,
      "outputs": [
        {
          "output_type": "stream",
          "text": [
            "     1                                                  3\n",
            "1    1  Cumings   Mrs. John Bradley (Florence Briggs T...\n",
            "2    1                            Heikkinen   Miss. Laina\n",
            "3    1      Futrelle   Mrs. Jacques Heath (Lily May Peel)\n",
            "8    1  Johnson   Mrs. Oscar W (Elisabeth Vilhelmina B...\n",
            "9    1               Nasser   Mrs. Nicholas (Adele Achem)\n",
            "..  ..                                                ...\n",
            "875  1                  Najib   Miss. Adele Kiamie \"Jane\"\n",
            "879  1     Potter   Mrs. Thomas Jr (Lily Alexenia Wilson)\n",
            "880  1      Shelley   Mrs. William (Imanita Parrish Hall)\n",
            "887  1                      Graham   Miss. Margaret Edith\n",
            "889  1                             Behr   Mr. Karl Howell\n",
            "\n",
            "[342 rows x 2 columns]\n"
          ],
          "name": "stdout"
        }
      ]
    },
    {
      "cell_type": "markdown",
      "metadata": {
        "id": "f__N0J9LMenU"
      },
      "source": [
        "``` ```"
      ]
    },
    {
      "cell_type": "markdown",
      "metadata": {
        "id": "Ak7h4UurMenU"
      },
      "source": [
        "```# Accessing data by label```\n"
      ]
    },
    {
      "cell_type": "code",
      "metadata": {
        "id": "Z0g_GVhiMenU",
        "colab": {
          "base_uri": "https://localhost:8080/"
        },
        "collapsed": true,
        "outputId": "5c3da16f-d835-44ba-ae18-175e1ca8e1ea"
      },
      "source": [
        "print(filtered_read_data[TitanicDataIdx[\"Name\"]][1])"
      ],
      "execution_count": null,
      "outputs": [
        {
          "output_type": "stream",
          "text": [
            "Cumings   Mrs. John Bradley (Florence Briggs Thayer)\n"
          ],
          "name": "stdout"
        }
      ]
    },
    {
      "cell_type": "markdown",
      "metadata": {
        "id": "BGlKbeUEMenU"
      },
      "source": [
        "``` ```"
      ]
    },
    {
      "cell_type": "markdown",
      "metadata": {
        "id": "lqHWxUstMenV"
      },
      "source": [
        "```# Accessing data by position index```\n"
      ]
    },
    {
      "cell_type": "code",
      "metadata": {
        "id": "y-LVud7YMenV",
        "colab": {
          "base_uri": "https://localhost:8080/"
        },
        "collapsed": true,
        "outputId": "8539c731-567f-462d-a2ff-4b7357461c31"
      },
      "source": [
        "print(filtered_read_data[TitanicDataIdx[\"Name\"]].iloc[0])"
      ],
      "execution_count": null,
      "outputs": [
        {
          "output_type": "stream",
          "text": [
            "Cumings   Mrs. John Bradley (Florence Briggs Thayer)\n"
          ],
          "name": "stdout"
        }
      ]
    },
    {
      "cell_type": "markdown",
      "metadata": {
        "id": "i51C4lriMenV"
      },
      "source": [
        "``` ```"
      ]
    },
    {
      "cell_type": "markdown",
      "metadata": {
        "id": "PDtOSRVWMenV"
      },
      "source": [
        "``` ```"
      ]
    },
    {
      "cell_type": "markdown",
      "metadata": {
        "id": "Y11SBhDwMenX"
      },
      "source": [
        "# numpy\n"
      ]
    },
    {
      "cell_type": "markdown",
      "metadata": {
        "id": "2Jtq6TXfMenX"
      },
      "source": [
        "```#-------------------------------------------------------------------------------```\n"
      ]
    },
    {
      "cell_type": "code",
      "metadata": {
        "id": "Jv47OzJOMenX"
      },
      "source": [
        "import numpy as np      # Generally, all external modules are imported at the "
      ],
      "execution_count": null,
      "outputs": []
    },
    {
      "cell_type": "code",
      "metadata": {
        "id": "-5PXSwVhMenX"
      },
      "source": [
        "                        # beginning of the script"
      ],
      "execution_count": null,
      "outputs": []
    },
    {
      "cell_type": "markdown",
      "metadata": {
        "id": "4O4tMuHpMenX"
      },
      "source": [
        "``` ```"
      ]
    },
    {
      "cell_type": "markdown",
      "metadata": {
        "id": "_0YQqgGAMenX"
      },
      "source": [
        "```# NumPy's main object is the homogeneous multidimensional array. It is a table ```\n",
        "\n",
        "```# of elements (usually numbers), all of the same type, indexed by a tuple of ```\n",
        "\n",
        "```# non-negative integers. In NumPy dimensions are called axes.```\n",
        "\n",
        "``` ```\n",
        "```# For example, the coordinates of a point in 3D space [1, 2, 1] has one axis. ```\n",
        "\n",
        "```# That axis has 3 elements in it, so we say it has a length of 3. In the ```\n",
        "\n",
        "```# example pictured below, the array has 2 axes. The first axis has a length of ```\n",
        "\n",
        "```# 2, the second axis has a length of 3.```\n"
      ]
    },
    {
      "cell_type": "markdown",
      "metadata": {
        "id": "dhs6un1UMenY"
      },
      "source": [
        "``` ```"
      ]
    },
    {
      "cell_type": "markdown",
      "metadata": {
        "id": "uGkaRMy6MenY"
      },
      "source": [
        "## The basic type: numpy.array\n"
      ]
    },
    {
      "cell_type": "markdown",
      "metadata": {
        "id": "L3R8oQR4MenY"
      },
      "source": [
        "```#--------------------------------------```\n"
      ]
    },
    {
      "cell_type": "code",
      "metadata": {
        "id": "M1-7ooqdMenZ",
        "colab": {
          "base_uri": "https://localhost:8080/"
        },
        "collapsed": true,
        "outputId": "eb284be3-293e-4502-ed36-4e0f9fcffb3b"
      },
      "source": [
        "a = np.array([6, 7, 8])\n",
        "print(a, type(a))"
      ],
      "execution_count": null,
      "outputs": [
        {
          "output_type": "stream",
          "text": [
            "[6 7 8] <class 'numpy.ndarray'>\n"
          ],
          "name": "stdout"
        }
      ]
    },
    {
      "cell_type": "markdown",
      "metadata": {
        "id": "WF1maK2ZMenZ"
      },
      "source": [
        "``` ```"
      ]
    },
    {
      "cell_type": "markdown",
      "metadata": {
        "id": "RD6QL4dPMenZ"
      },
      "source": [
        "```# np.array is the equivalent of Python's range to generate np.arrays```\n"
      ]
    },
    {
      "cell_type": "code",
      "metadata": {
        "id": "zQGPDVkjMenZ"
      },
      "source": [
        "b = np.arange(15).reshape(3, 5)"
      ],
      "execution_count": null,
      "outputs": []
    },
    {
      "cell_type": "code",
      "metadata": {
        "id": "rVm4H0MeMenZ",
        "colab": {
          "base_uri": "https://localhost:8080/"
        },
        "collapsed": true,
        "outputId": "38a4fdc5-a227-44de-d330-fd2a5b398b07"
      },
      "source": [
        "print(b)"
      ],
      "execution_count": null,
      "outputs": [
        {
          "output_type": "stream",
          "text": [
            "[[ 0  1  2  3  4]\n",
            " [ 5  6  7  8  9]\n",
            " [10 11 12 13 14]]\n"
          ],
          "name": "stdout"
        }
      ]
    },
    {
      "cell_type": "code",
      "metadata": {
        "id": "nqZNycZXMenZ",
        "colab": {
          "base_uri": "https://localhost:8080/"
        },
        "collapsed": true,
        "outputId": "e35f14fa-f5d7-4e4d-94bf-33215cef713b"
      },
      "source": [
        "print(b.shape)"
      ],
      "execution_count": null,
      "outputs": [
        {
          "output_type": "stream",
          "text": [
            "(3, 5)\n"
          ],
          "name": "stdout"
        }
      ]
    },
    {
      "cell_type": "code",
      "metadata": {
        "id": "g2uSvWF0MenZ",
        "colab": {
          "base_uri": "https://localhost:8080/"
        },
        "collapsed": true,
        "outputId": "4d582d86-0b57-4aba-f14a-71795e3f0b56"
      },
      "source": [
        "print(b.size)"
      ],
      "execution_count": null,
      "outputs": [
        {
          "output_type": "stream",
          "text": [
            "15\n"
          ],
          "name": "stdout"
        }
      ]
    },
    {
      "cell_type": "code",
      "metadata": {
        "id": "x8R7fqqDMenZ",
        "colab": {
          "base_uri": "https://localhost:8080/"
        },
        "collapsed": true,
        "outputId": "2922d651-e285-42cd-c532-334fec613669"
      },
      "source": [
        "print(b.dtype.name)"
      ],
      "execution_count": null,
      "outputs": [
        {
          "output_type": "stream",
          "text": [
            "int64\n"
          ],
          "name": "stdout"
        }
      ]
    },
    {
      "cell_type": "markdown",
      "metadata": {
        "id": "_k0RXDr8MenZ"
      },
      "source": [
        "``` ```"
      ]
    },
    {
      "cell_type": "markdown",
      "metadata": {
        "id": "R-5UjxcqMena"
      },
      "source": [
        "```# The type of the array can also be explicitly specified at creation time:```\n"
      ]
    },
    {
      "cell_type": "code",
      "metadata": {
        "id": "jSFqb8onMena"
      },
      "source": [
        "c = np.array( [ [1,2], [3,4] ], dtype=complex )"
      ],
      "execution_count": null,
      "outputs": []
    },
    {
      "cell_type": "code",
      "metadata": {
        "id": "gDQlxFBiMena",
        "colab": {
          "base_uri": "https://localhost:8080/"
        },
        "collapsed": true,
        "outputId": "5ad020cb-d733-41c0-d68b-3172393956bb"
      },
      "source": [
        "print(c)"
      ],
      "execution_count": null,
      "outputs": [
        {
          "output_type": "stream",
          "text": [
            "[[1.+0.j 2.+0.j]\n",
            " [3.+0.j 4.+0.j]]\n"
          ],
          "name": "stdout"
        }
      ]
    },
    {
      "cell_type": "markdown",
      "metadata": {
        "id": "OVVRCBcPMena"
      },
      "source": [
        "``` ```"
      ]
    },
    {
      "cell_type": "markdown",
      "metadata": {
        "id": "Nmd7AXqUMenc"
      },
      "source": [
        "```# Other ways to create np.arrays```\n"
      ]
    },
    {
      "cell_type": "code",
      "metadata": {
        "id": "c4-f2LS_Menc"
      },
      "source": [
        "d = np.zeros( (3,4) )"
      ],
      "execution_count": null,
      "outputs": []
    },
    {
      "cell_type": "code",
      "metadata": {
        "id": "yI8sfASOMend",
        "colab": {
          "base_uri": "https://localhost:8080/"
        },
        "collapsed": true,
        "outputId": "9a58237d-d285-4ab2-e2e4-24a7409f4477"
      },
      "source": [
        "print(d)"
      ],
      "execution_count": null,
      "outputs": [
        {
          "output_type": "stream",
          "text": [
            "[[0. 0. 0. 0.]\n",
            " [0. 0. 0. 0.]\n",
            " [0. 0. 0. 0.]]\n"
          ],
          "name": "stdout"
        }
      ]
    },
    {
      "cell_type": "markdown",
      "metadata": {
        "id": "GV1e64V5Mend"
      },
      "source": [
        "``` ```"
      ]
    },
    {
      "cell_type": "code",
      "metadata": {
        "id": "jhgwD6l6Mend"
      },
      "source": [
        "e = np.ones( (2,3,4), dtype=np.int16 )        # dtype can also be specified"
      ],
      "execution_count": null,
      "outputs": []
    },
    {
      "cell_type": "code",
      "metadata": {
        "id": "YYk1ehx9Mend",
        "colab": {
          "base_uri": "https://localhost:8080/"
        },
        "collapsed": true,
        "outputId": "879ddb7d-41e6-478a-88b9-8a1c08f79075"
      },
      "source": [
        "print(e)"
      ],
      "execution_count": null,
      "outputs": [
        {
          "output_type": "stream",
          "text": [
            "[[[1 1 1 1]\n",
            "  [1 1 1 1]\n",
            "  [1 1 1 1]]\n",
            "\n",
            " [[1 1 1 1]\n",
            "  [1 1 1 1]\n",
            "  [1 1 1 1]]]\n"
          ],
          "name": "stdout"
        }
      ]
    },
    {
      "cell_type": "markdown",
      "metadata": {
        "id": "0NgsbczMMend"
      },
      "source": [
        "``` ```"
      ]
    },
    {
      "cell_type": "code",
      "metadata": {
        "id": "p18mUbz0Mend"
      },
      "source": [
        "f = np.empty( (2,3) )                         # uninitialized, output may vary"
      ],
      "execution_count": null,
      "outputs": []
    },
    {
      "cell_type": "code",
      "metadata": {
        "id": "rlJz1I8YMend",
        "colab": {
          "base_uri": "https://localhost:8080/"
        },
        "collapsed": true,
        "outputId": "308b3c11-e4ae-4084-f5c4-322798d9b945"
      },
      "source": [
        "print(f)"
      ],
      "execution_count": null,
      "outputs": [
        {
          "output_type": "stream",
          "text": [
            "[[4.66338111e-310 0.00000000e+000 0.00000000e+000]\n",
            " [0.00000000e+000 0.00000000e+000 0.00000000e+000]]\n"
          ],
          "name": "stdout"
        }
      ]
    },
    {
      "cell_type": "markdown",
      "metadata": {
        "id": "NoeBAwEnMene"
      },
      "source": [
        "``` ```"
      ]
    },
    {
      "cell_type": "markdown",
      "metadata": {
        "id": "JX2TsMmZMene"
      },
      "source": [
        "```# Some methods implemented in np.arrays```\n"
      ]
    },
    {
      "cell_type": "code",
      "metadata": {
        "id": "knMmawABMene"
      },
      "source": [
        "a = np.random.random((2,3))                     # unidimensional array"
      ],
      "execution_count": null,
      "outputs": []
    },
    {
      "cell_type": "code",
      "metadata": {
        "id": "zuiNTpqvMene",
        "colab": {
          "base_uri": "https://localhost:8080/"
        },
        "collapsed": true,
        "outputId": "a8831b91-c738-406f-e455-83d9170f231a"
      },
      "source": [
        "print(a)"
      ],
      "execution_count": null,
      "outputs": [
        {
          "output_type": "stream",
          "text": [
            "[[0.07001617 0.84756976 0.62466982]\n",
            " [0.29010205 0.81862448 0.27490259]]\n"
          ],
          "name": "stdout"
        }
      ]
    },
    {
      "cell_type": "code",
      "metadata": {
        "id": "ZsDH4iTgMene",
        "colab": {
          "base_uri": "https://localhost:8080/"
        },
        "collapsed": true,
        "outputId": "3bde942d-c0ed-4e52-d160-e21727874469"
      },
      "source": [
        "print(a.sum())"
      ],
      "execution_count": null,
      "outputs": [
        {
          "output_type": "stream",
          "text": [
            "2.925884873092791\n"
          ],
          "name": "stdout"
        }
      ]
    },
    {
      "cell_type": "code",
      "metadata": {
        "id": "p1rGQckaMene",
        "colab": {
          "base_uri": "https://localhost:8080/"
        },
        "collapsed": true,
        "outputId": "deea7c88-fb9f-4023-e7bc-f243056a53c6"
      },
      "source": [
        "print(a.min())"
      ],
      "execution_count": null,
      "outputs": [
        {
          "output_type": "stream",
          "text": [
            "0.07001617364412493\n"
          ],
          "name": "stdout"
        }
      ]
    },
    {
      "cell_type": "code",
      "metadata": {
        "id": "q_mZHepzMene",
        "colab": {
          "base_uri": "https://localhost:8080/"
        },
        "collapsed": true,
        "outputId": "d2df2ae4-6f33-4ccc-96ef-d40f636c3bce"
      },
      "source": [
        "print(a.max())"
      ],
      "execution_count": null,
      "outputs": [
        {
          "output_type": "stream",
          "text": [
            "0.8475697615071867\n"
          ],
          "name": "stdout"
        }
      ]
    },
    {
      "cell_type": "markdown",
      "metadata": {
        "id": "OG5EgxH7Mene"
      },
      "source": [
        "``` ```"
      ]
    },
    {
      "cell_type": "code",
      "metadata": {
        "id": "vfGWuvlcMene"
      },
      "source": [
        "b = np.arange(12).reshape(3,4)                  # bidimensional array"
      ],
      "execution_count": null,
      "outputs": []
    },
    {
      "cell_type": "code",
      "metadata": {
        "id": "tfM5wo8RMenf",
        "colab": {
          "base_uri": "https://localhost:8080/"
        },
        "collapsed": true,
        "outputId": "0865bbdf-260e-4988-fae5-e147c458ce3f"
      },
      "source": [
        "print(b)"
      ],
      "execution_count": null,
      "outputs": [
        {
          "output_type": "stream",
          "text": [
            "[[ 0  1  2  3]\n",
            " [ 4  5  6  7]\n",
            " [ 8  9 10 11]]\n"
          ],
          "name": "stdout"
        }
      ]
    },
    {
      "cell_type": "code",
      "metadata": {
        "id": "uSNVANwzMenf",
        "colab": {
          "base_uri": "https://localhost:8080/"
        },
        "collapsed": true,
        "outputId": "da67b2ff-d0f6-4def-aa43-b954bc6b005e"
      },
      "source": [
        "print(b.sum(axis=0))                            # sum of each column"
      ],
      "execution_count": null,
      "outputs": [
        {
          "output_type": "stream",
          "text": [
            "[12 15 18 21]\n"
          ],
          "name": "stdout"
        }
      ]
    },
    {
      "cell_type": "code",
      "metadata": {
        "id": "GMN4e4C-Menf",
        "colab": {
          "base_uri": "https://localhost:8080/"
        },
        "collapsed": true,
        "outputId": "8f980ab9-6491-42ef-a259-e865a45fbeb5"
      },
      "source": [
        "print(b.min(axis=1))                            # min of each row"
      ],
      "execution_count": null,
      "outputs": [
        {
          "output_type": "stream",
          "text": [
            "[0 4 8]\n"
          ],
          "name": "stdout"
        }
      ]
    },
    {
      "cell_type": "code",
      "metadata": {
        "id": "MiMU3tuKMenf",
        "colab": {
          "base_uri": "https://localhost:8080/"
        },
        "collapsed": true,
        "outputId": "14733969-ffd8-4989-b86c-c39e6ed9074e"
      },
      "source": [
        "print(b.cumsum(axis=1))                         # cumulative sum along each row"
      ],
      "execution_count": null,
      "outputs": [
        {
          "output_type": "stream",
          "text": [
            "[[ 0  1  3  6]\n",
            " [ 4  9 15 22]\n",
            " [ 8 17 27 38]]\n"
          ],
          "name": "stdout"
        }
      ]
    },
    {
      "cell_type": "markdown",
      "metadata": {
        "id": "VEaYZsflMenf"
      },
      "source": [
        "``` ```"
      ]
    },
    {
      "cell_type": "markdown",
      "metadata": {
        "id": "sSUqzVa8Menf"
      },
      "source": [
        "``` ```"
      ]
    },
    {
      "cell_type": "markdown",
      "metadata": {
        "id": "IpknvRLmMeng"
      },
      "source": [
        "## Arithmetic operations\n"
      ]
    },
    {
      "cell_type": "markdown",
      "metadata": {
        "id": "HoRw0NDMMeng"
      },
      "source": [
        "```#--------------------------------------```\n"
      ]
    },
    {
      "cell_type": "code",
      "metadata": {
        "id": "-LZXv6KDMeng"
      },
      "source": [
        "a = np.array( [20,30,40,50] )"
      ],
      "execution_count": null,
      "outputs": []
    },
    {
      "cell_type": "code",
      "metadata": {
        "id": "LMn-CSdhMeng"
      },
      "source": [
        "b = np.arange( 4 )"
      ],
      "execution_count": null,
      "outputs": []
    },
    {
      "cell_type": "code",
      "metadata": {
        "id": "gT969oWKMeng",
        "colab": {
          "base_uri": "https://localhost:8080/"
        },
        "collapsed": true,
        "outputId": "a41fbefc-2e6a-4f50-c671-51ea9427fb9b"
      },
      "source": [
        "print(b)"
      ],
      "execution_count": null,
      "outputs": [
        {
          "output_type": "stream",
          "text": [
            "[0 1 2 3]\n"
          ],
          "name": "stdout"
        }
      ]
    },
    {
      "cell_type": "markdown",
      "metadata": {
        "id": "5gpK387JMeng"
      },
      "source": [
        "``` ```"
      ]
    },
    {
      "cell_type": "code",
      "metadata": {
        "id": "PRHMP6_jMeng"
      },
      "source": [
        "c = a-b"
      ],
      "execution_count": null,
      "outputs": []
    },
    {
      "cell_type": "code",
      "metadata": {
        "id": "UuWc8Q-aMeng",
        "colab": {
          "base_uri": "https://localhost:8080/"
        },
        "collapsed": true,
        "outputId": "2ff55772-cfbd-48c6-c252-24dd9e547979"
      },
      "source": [
        "print(c)"
      ],
      "execution_count": null,
      "outputs": [
        {
          "output_type": "stream",
          "text": [
            "[20 29 38 47]\n"
          ],
          "name": "stdout"
        }
      ]
    },
    {
      "cell_type": "markdown",
      "metadata": {
        "id": "i5fSK-6WMenh"
      },
      "source": [
        "``` ```"
      ]
    },
    {
      "cell_type": "code",
      "metadata": {
        "id": "fAKu2QnwMenh",
        "colab": {
          "base_uri": "https://localhost:8080/"
        },
        "collapsed": true,
        "outputId": "e83f9464-4e89-4ada-f1eb-b4a320c3ac6a"
      },
      "source": [
        "print(b**2)"
      ],
      "execution_count": null,
      "outputs": [
        {
          "output_type": "stream",
          "text": [
            "[0 1 4 9]\n"
          ],
          "name": "stdout"
        }
      ]
    },
    {
      "cell_type": "markdown",
      "metadata": {
        "id": "YtN_zMiHMenh"
      },
      "source": [
        "``` ```"
      ]
    },
    {
      "cell_type": "code",
      "metadata": {
        "id": "DGM-bOaSMenh",
        "colab": {
          "base_uri": "https://localhost:8080/"
        },
        "collapsed": true,
        "outputId": "271e3818-3dfe-426a-ee5d-e7666de9071d"
      },
      "source": [
        "print(10*np.sin(a))"
      ],
      "execution_count": null,
      "outputs": [
        {
          "output_type": "stream",
          "text": [
            "[ 9.12945251 -9.88031624  7.4511316  -2.62374854]\n"
          ],
          "name": "stdout"
        }
      ]
    },
    {
      "cell_type": "markdown",
      "metadata": {
        "id": "hRYOPqjuMenh"
      },
      "source": [
        "``` ```"
      ]
    },
    {
      "cell_type": "code",
      "metadata": {
        "id": "BCN_6pGRMenh",
        "colab": {
          "base_uri": "https://localhost:8080/"
        },
        "collapsed": true,
        "outputId": "1ccc84fb-1b4e-4be4-b872-58c94cd7d4f3"
      },
      "source": [
        "print(a<35)"
      ],
      "execution_count": null,
      "outputs": [
        {
          "output_type": "stream",
          "text": [
            "[ True  True False False]\n"
          ],
          "name": "stdout"
        }
      ]
    },
    {
      "cell_type": "markdown",
      "metadata": {
        "id": "pLH135GFMenh"
      },
      "source": [
        "``` ```"
      ]
    },
    {
      "cell_type": "markdown",
      "metadata": {
        "id": "KjcN1_vaMenh"
      },
      "source": [
        "``` ```"
      ]
    },
    {
      "cell_type": "markdown",
      "metadata": {
        "id": "PFZMnJ6pMenh"
      },
      "source": [
        "## Matrix operations\n"
      ]
    },
    {
      "cell_type": "markdown",
      "metadata": {
        "id": "EWme3r7DMenh"
      },
      "source": [
        "```#--------------------------------------```\n"
      ]
    },
    {
      "cell_type": "code",
      "metadata": {
        "id": "_7lahOkeMeni"
      },
      "source": [
        "A = np.array( [[1,1],\n",
        "               [0,1]] )\n",
        "B = np.array( [[2,0],\n",
        "               [3,4]] )"
      ],
      "execution_count": null,
      "outputs": []
    },
    {
      "cell_type": "markdown",
      "metadata": {
        "id": "QbkiNi-7Meni"
      },
      "source": [
        "``` ```"
      ]
    },
    {
      "cell_type": "code",
      "metadata": {
        "id": "jgV_x2cxMeni",
        "colab": {
          "base_uri": "https://localhost:8080/"
        },
        "collapsed": true,
        "outputId": "d8ee4262-74ed-4a84-d3db-b76a96c35fb2"
      },
      "source": [
        "print(A * B)                       # elementwise product"
      ],
      "execution_count": null,
      "outputs": [
        {
          "output_type": "stream",
          "text": [
            "[[2 0]\n",
            " [0 4]]\n"
          ],
          "name": "stdout"
        }
      ]
    },
    {
      "cell_type": "markdown",
      "metadata": {
        "id": "b0TDCh3VMeni"
      },
      "source": [
        "``` ```"
      ]
    },
    {
      "cell_type": "markdown",
      "metadata": {
        "id": "CZzzBCV_Meni"
      },
      "source": [
        "``` ```"
      ]
    },
    {
      "cell_type": "code",
      "metadata": {
        "id": "uhVGabZ3Meni",
        "colab": {
          "base_uri": "https://localhost:8080/"
        },
        "collapsed": true,
        "outputId": "cc06c784-9c2c-429a-f70c-73068681a10c"
      },
      "source": [
        "print(A @ B)                       # matrix product"
      ],
      "execution_count": null,
      "outputs": [
        {
          "output_type": "stream",
          "text": [
            "[[5 4]\n",
            " [3 4]]\n"
          ],
          "name": "stdout"
        }
      ]
    },
    {
      "cell_type": "markdown",
      "metadata": {
        "id": "gxQr58_0Menj"
      },
      "source": [
        "``` ```"
      ]
    },
    {
      "cell_type": "markdown",
      "metadata": {
        "id": "dwt3ptDFMenj"
      },
      "source": [
        "``` ```"
      ]
    },
    {
      "cell_type": "code",
      "metadata": {
        "id": "iAK32NxWMenj",
        "colab": {
          "base_uri": "https://localhost:8080/"
        },
        "collapsed": true,
        "outputId": "9010d16f-7e17-49e3-90ba-262b4b109217"
      },
      "source": [
        "print(A.dot(B))                    # another matrix product"
      ],
      "execution_count": null,
      "outputs": [
        {
          "output_type": "stream",
          "text": [
            "[[5 4]\n",
            " [3 4]]\n"
          ],
          "name": "stdout"
        }
      ]
    },
    {
      "cell_type": "markdown",
      "metadata": {
        "id": "IALGygSiMenj"
      },
      "source": [
        "``` ```"
      ]
    },
    {
      "cell_type": "markdown",
      "metadata": {
        "id": "KhUnO6NaMenj"
      },
      "source": [
        "``` ```"
      ]
    },
    {
      "cell_type": "code",
      "metadata": {
        "id": "pJXF3t_gMenk",
        "colab": {
          "base_uri": "https://localhost:8080/"
        },
        "collapsed": true,
        "outputId": "ad28d719-436b-4e63-c7dc-9b11db48a4eb"
      },
      "source": [
        "print(np.dot(A,B))                 # another one"
      ],
      "execution_count": null,
      "outputs": [
        {
          "output_type": "stream",
          "text": [
            "[[5 4]\n",
            " [3 4]]\n"
          ],
          "name": "stdout"
        }
      ]
    },
    {
      "cell_type": "markdown",
      "metadata": {
        "id": "leFASfVnMenk"
      },
      "source": [
        "``` ```"
      ]
    },
    {
      "cell_type": "markdown",
      "metadata": {
        "id": "1N5xgj91Menk"
      },
      "source": [
        "``` ```"
      ]
    },
    {
      "cell_type": "markdown",
      "metadata": {
        "id": "sCWZLW7BMenk"
      },
      "source": [
        "## Indexing, Slicing and Iterating\n",
        "\n"
      ]
    },
    {
      "cell_type": "markdown",
      "metadata": {
        "id": "4K7F5HnwMenk"
      },
      "source": [
        "```#--------------------------------------```\n"
      ]
    },
    {
      "cell_type": "code",
      "metadata": {
        "id": "xmOYXDC-Menk",
        "colab": {
          "base_uri": "https://localhost:8080/"
        },
        "collapsed": true,
        "outputId": "9b33957f-4ff5-4320-e165-4c48dd66ac47"
      },
      "source": [
        "a = np.arange(10)**3\n",
        "print(a)"
      ],
      "execution_count": null,
      "outputs": [
        {
          "output_type": "stream",
          "text": [
            "[  0   1   8  27  64 125 216 343 512 729]\n"
          ],
          "name": "stdout"
        }
      ]
    },
    {
      "cell_type": "markdown",
      "metadata": {
        "id": "Kv6tnreEMenl"
      },
      "source": [
        "``` ```"
      ]
    },
    {
      "cell_type": "code",
      "metadata": {
        "id": "_FrkbSFjMenl",
        "colab": {
          "base_uri": "https://localhost:8080/"
        },
        "collapsed": true,
        "outputId": "e3b0580e-ab77-42f5-a1ff-6063a960c308"
      },
      "source": [
        "print(a[2])"
      ],
      "execution_count": null,
      "outputs": [
        {
          "output_type": "stream",
          "text": [
            "8\n"
          ],
          "name": "stdout"
        }
      ]
    },
    {
      "cell_type": "markdown",
      "metadata": {
        "id": "8z-xmo2qMenl"
      },
      "source": [
        "``` ```"
      ]
    },
    {
      "cell_type": "code",
      "metadata": {
        "id": "qCDZxsBZMenl",
        "colab": {
          "base_uri": "https://localhost:8080/"
        },
        "collapsed": true,
        "outputId": "b2718f3c-8785-4e83-a5f8-4ee47ca96c1d"
      },
      "source": [
        "print(a[2:5])"
      ],
      "execution_count": null,
      "outputs": [
        {
          "output_type": "stream",
          "text": [
            "[ 8 27 64]\n"
          ],
          "name": "stdout"
        }
      ]
    },
    {
      "cell_type": "markdown",
      "metadata": {
        "id": "CnvZ3NrtMenl"
      },
      "source": [
        "``` ```"
      ]
    },
    {
      "cell_type": "code",
      "metadata": {
        "id": "gwJExR2ZMenl"
      },
      "source": [
        "a[:6:2] = -1000    # equivalent to a[0:6:2] = -1000; from start to position 6, "
      ],
      "execution_count": null,
      "outputs": []
    },
    {
      "cell_type": "code",
      "metadata": {
        "id": "oTGPt1JSMenl"
      },
      "source": [
        "                   # exclusive, set every 2nd element to -1000"
      ],
      "execution_count": null,
      "outputs": []
    },
    {
      "cell_type": "code",
      "metadata": {
        "id": "NyetIbyLMenl",
        "colab": {
          "base_uri": "https://localhost:8080/"
        },
        "collapsed": true,
        "outputId": "6dafacca-18bf-44c3-c6fc-b88d96381d75"
      },
      "source": [
        "print(a)"
      ],
      "execution_count": null,
      "outputs": [
        {
          "output_type": "stream",
          "text": [
            "[-1000     1 -1000    27 -1000   125   216   343   512   729]\n"
          ],
          "name": "stdout"
        }
      ]
    },
    {
      "cell_type": "markdown",
      "metadata": {
        "id": "GFPuvApsMenm"
      },
      "source": [
        "``` ```"
      ]
    },
    {
      "cell_type": "code",
      "metadata": {
        "id": "eEQ6pG2IMenm",
        "colab": {
          "base_uri": "https://localhost:8080/"
        },
        "collapsed": true,
        "outputId": "04303a64-58d0-4a88-8454-9e67c0aaf0a7"
      },
      "source": [
        "print(a[ : :-1])   # reversed a"
      ],
      "execution_count": null,
      "outputs": [
        {
          "output_type": "stream",
          "text": [
            "[  729   512   343   216   125 -1000    27 -1000     1 -1000]\n"
          ],
          "name": "stdout"
        }
      ]
    },
    {
      "cell_type": "markdown",
      "metadata": {
        "id": "NhiVm4iPMenm"
      },
      "source": [
        "``` ```"
      ]
    },
    {
      "cell_type": "markdown",
      "metadata": {
        "id": "djLejrauMenm"
      },
      "source": [
        "```# Indexing with Arrays of Indices```\n"
      ]
    },
    {
      "cell_type": "code",
      "metadata": {
        "id": "1kLiCRVpMenm",
        "colab": {
          "base_uri": "https://localhost:8080/"
        },
        "collapsed": true,
        "outputId": "80fd4322-6541-4a80-9450-883f6a3bdfc7"
      },
      "source": [
        "a = np.arange(12)**2                         # the first 12 square numbers\n",
        "print(a)\n",
        "idx = np.array( [ 1,1,3,8,5 ] )              # an array of indices"
      ],
      "execution_count": null,
      "outputs": [
        {
          "output_type": "stream",
          "text": [
            "[  0   1   4   9  16  25  36  49  64  81 100 121]\n"
          ],
          "name": "stdout"
        }
      ]
    },
    {
      "cell_type": "code",
      "metadata": {
        "id": "mzSTOKUUMenm",
        "colab": {
          "base_uri": "https://localhost:8080/"
        },
        "collapsed": true,
        "outputId": "89bf3257-7207-4269-9f90-50cb6383e349"
      },
      "source": [
        "print(a[idx])                                "
      ],
      "execution_count": null,
      "outputs": [
        {
          "output_type": "stream",
          "text": [
            "[ 1  1  9 64 25]\n"
          ],
          "name": "stdout"
        }
      ]
    },
    {
      "cell_type": "markdown",
      "metadata": {
        "id": "0NcyDaxLMenm"
      },
      "source": [
        "``` ```"
      ]
    },
    {
      "cell_type": "code",
      "metadata": {
        "id": "_0fjGEPSMenn"
      },
      "source": [
        "j = np.array( [ [ 3, 4], [ 9, 7 ] ] )        # a bidimensional array of indices"
      ],
      "execution_count": null,
      "outputs": []
    },
    {
      "cell_type": "code",
      "metadata": {
        "id": "GJjs5yubMenn",
        "colab": {
          "base_uri": "https://localhost:8080/"
        },
        "collapsed": true,
        "outputId": "e98da3a3-cf56-4fd3-bc38-9605e51e3d72"
      },
      "source": [
        "print(a[j])                                  # the same shape as j"
      ],
      "execution_count": null,
      "outputs": [
        {
          "output_type": "stream",
          "text": [
            "[[ 9 16]\n",
            " [81 49]]\n"
          ],
          "name": "stdout"
        }
      ]
    },
    {
      "cell_type": "markdown",
      "metadata": {
        "id": "sDT9pEHOMenn"
      },
      "source": [
        "``` ```"
      ]
    },
    {
      "cell_type": "markdown",
      "metadata": {
        "id": "cJM4Pw-XMenn"
      },
      "source": [
        "```# Indexing with Boolean Arrays```\n"
      ]
    },
    {
      "cell_type": "code",
      "metadata": {
        "id": "sIj_fZhYMenn",
        "colab": {
          "base_uri": "https://localhost:8080/"
        },
        "collapsed": true,
        "outputId": "d102ffd3-3b45-4ee3-cd0c-ddaf57767d1a"
      },
      "source": [
        "a = np.arange(12).reshape(3,4)\n",
        "print(a)"
      ],
      "execution_count": null,
      "outputs": [
        {
          "output_type": "stream",
          "text": [
            "[[ 0  1  2  3]\n",
            " [ 4  5  6  7]\n",
            " [ 8  9 10 11]]\n"
          ],
          "name": "stdout"
        }
      ]
    },
    {
      "cell_type": "code",
      "metadata": {
        "id": "nXDIOVoTMenn"
      },
      "source": [
        "b = a > 4"
      ],
      "execution_count": null,
      "outputs": []
    },
    {
      "cell_type": "code",
      "metadata": {
        "id": "tuzGbllLMenn",
        "colab": {
          "base_uri": "https://localhost:8080/"
        },
        "collapsed": true,
        "outputId": "7dbd28a7-e94d-4744-b56b-f89d267f8cc1"
      },
      "source": [
        "print(b)                                     # b is a boolean with a's shape"
      ],
      "execution_count": null,
      "outputs": [
        {
          "output_type": "stream",
          "text": [
            "[[False False False False]\n",
            " [False  True  True  True]\n",
            " [ True  True  True  True]]\n"
          ],
          "name": "stdout"
        }
      ]
    },
    {
      "cell_type": "code",
      "metadata": {
        "id": "btB8Fj_PMenn",
        "colab": {
          "base_uri": "https://localhost:8080/"
        },
        "collapsed": true,
        "outputId": "66979ca2-098d-42ba-8824-8df3c1b78523"
      },
      "source": [
        "print(a[b])                                  # 1d array with the selected "
      ],
      "execution_count": null,
      "outputs": [
        {
          "output_type": "stream",
          "text": [
            "[ 5  6  7  8  9 10 11]\n"
          ],
          "name": "stdout"
        }
      ]
    },
    {
      "cell_type": "code",
      "metadata": {
        "id": "yRPrRen8Meno"
      },
      "source": [
        "                                             # elements"
      ],
      "execution_count": null,
      "outputs": []
    },
    {
      "cell_type": "markdown",
      "metadata": {
        "id": "yBPAD_YdMeno"
      },
      "source": [
        "``` ```"
      ]
    },
    {
      "cell_type": "markdown",
      "metadata": {
        "id": "5r0yEW3QMeno"
      },
      "source": [
        "```# Iterating over multidimensional arrays is done with respect to the first axis:```\n"
      ]
    },
    {
      "cell_type": "code",
      "metadata": {
        "id": "yyMIprnbMeno",
        "colab": {
          "base_uri": "https://localhost:8080/"
        },
        "collapsed": true,
        "outputId": "148fcd65-076d-488b-afef-db9c47e78d13"
      },
      "source": [
        "for row in b:\n",
        "    print(row)"
      ],
      "execution_count": null,
      "outputs": [
        {
          "output_type": "stream",
          "text": [
            "[False False False False]\n",
            "[False  True  True  True]\n",
            "[ True  True  True  True]\n"
          ],
          "name": "stdout"
        }
      ]
    },
    {
      "cell_type": "markdown",
      "metadata": {
        "id": "7qJT5AHoMeno"
      },
      "source": [
        "``` ```"
      ]
    },
    {
      "cell_type": "markdown",
      "metadata": {
        "id": "AAcUXOq-Meno"
      },
      "source": [
        "``` ```"
      ]
    },
    {
      "cell_type": "markdown",
      "metadata": {
        "id": "G_U_eru1Meno"
      },
      "source": [
        "## Linear Algebra\n"
      ]
    },
    {
      "cell_type": "markdown",
      "metadata": {
        "id": "DDcrA5JBMeno"
      },
      "source": [
        "```#--------------------------------------```\n"
      ]
    },
    {
      "cell_type": "code",
      "metadata": {
        "id": "gVR0tLe8Menp",
        "colab": {
          "base_uri": "https://localhost:8080/"
        },
        "collapsed": true,
        "outputId": "d4915c03-75e5-417f-914b-c7fda3f79227"
      },
      "source": [
        "a = np.floor(10*np.random.random((3,4)))\n",
        "print(a)"
      ],
      "execution_count": null,
      "outputs": [
        {
          "output_type": "stream",
          "text": [
            "[[3. 1. 0. 1.]\n",
            " [2. 8. 0. 2.]\n",
            " [7. 8. 2. 8.]]\n"
          ],
          "name": "stdout"
        }
      ]
    },
    {
      "cell_type": "markdown",
      "metadata": {
        "id": "y9GlWwk5Menp"
      },
      "source": [
        "``` ```"
      ]
    },
    {
      "cell_type": "code",
      "metadata": {
        "id": "TUfwvlMvMenp",
        "colab": {
          "base_uri": "https://localhost:8080/"
        },
        "collapsed": true,
        "outputId": "a0fa04e7-0964-4d81-fa42-548ef5547fb5"
      },
      "source": [
        "print(a.T)"
      ],
      "execution_count": null,
      "outputs": [
        {
          "output_type": "stream",
          "text": [
            "[[3. 2. 7.]\n",
            " [1. 8. 8.]\n",
            " [0. 0. 2.]\n",
            " [1. 2. 8.]]\n"
          ],
          "name": "stdout"
        }
      ]
    },
    {
      "cell_type": "markdown",
      "metadata": {
        "id": "cVBZu0JpMenp"
      },
      "source": [
        "``` ```"
      ]
    },
    {
      "cell_type": "code",
      "metadata": {
        "id": "LrTPktZUMenp",
        "colab": {
          "base_uri": "https://localhost:8080/"
        },
        "collapsed": true,
        "outputId": "2d9e8d9d-d53c-44cc-aaed-aafc81642e12"
      },
      "source": [
        "print(np.ravel(a))"
      ],
      "execution_count": null,
      "outputs": [
        {
          "output_type": "stream",
          "text": [
            "[3. 1. 0. 1. 2. 8. 0. 2. 7. 8. 2. 8.]\n"
          ],
          "name": "stdout"
        }
      ]
    },
    {
      "cell_type": "markdown",
      "metadata": {
        "id": "ZPhxIn7OMenp"
      },
      "source": [
        "``` ```"
      ]
    },
    {
      "cell_type": "code",
      "metadata": {
        "id": "MbHhHUHEMenp"
      },
      "source": [
        "b = np.floor(10*np.random.random((4,4)))"
      ],
      "execution_count": null,
      "outputs": []
    },
    {
      "cell_type": "code",
      "metadata": {
        "id": "ZVR76IzCMenp",
        "colab": {
          "base_uri": "https://localhost:8080/"
        },
        "collapsed": true,
        "outputId": "ad55d0e2-c571-49e9-98b1-fc786bc337d9"
      },
      "source": [
        "print(b)"
      ],
      "execution_count": null,
      "outputs": [
        {
          "output_type": "stream",
          "text": [
            "[[0. 5. 3. 7.]\n",
            " [1. 0. 8. 3.]\n",
            " [2. 2. 3. 8.]\n",
            " [5. 8. 4. 2.]]\n"
          ],
          "name": "stdout"
        }
      ]
    },
    {
      "cell_type": "markdown",
      "metadata": {
        "id": "fqp2ii-UMenp"
      },
      "source": [
        "``` ```"
      ]
    },
    {
      "cell_type": "code",
      "metadata": {
        "id": "DlfDIRZnMenq",
        "colab": {
          "base_uri": "https://localhost:8080/"
        },
        "collapsed": true,
        "outputId": "9b19e25d-75a9-40aa-f90b-9fa013ec080d"
      },
      "source": [
        "print(np.diag(b))"
      ],
      "execution_count": null,
      "outputs": [
        {
          "output_type": "stream",
          "text": [
            "[0. 0. 3. 2.]\n"
          ],
          "name": "stdout"
        }
      ]
    },
    {
      "cell_type": "markdown",
      "metadata": {
        "id": "2tdREURCMenq"
      },
      "source": [
        "``` ```"
      ]
    },
    {
      "cell_type": "code",
      "metadata": {
        "id": "L4C1GgCEMenq",
        "colab": {
          "base_uri": "https://localhost:8080/"
        },
        "collapsed": true,
        "outputId": "19c9819e-8404-4fba-8673-ce428e55321c"
      },
      "source": [
        "print(np.trace(b))"
      ],
      "execution_count": null,
      "outputs": [
        {
          "output_type": "stream",
          "text": [
            "5.0\n"
          ],
          "name": "stdout"
        }
      ]
    },
    {
      "cell_type": "markdown",
      "metadata": {
        "id": "tCzAR9HNMenq"
      },
      "source": [
        "``` ```"
      ]
    },
    {
      "cell_type": "code",
      "metadata": {
        "id": "48W5T9TSMenq"
      },
      "source": [
        "b_inv = np.linalg.inv(b)"
      ],
      "execution_count": null,
      "outputs": []
    },
    {
      "cell_type": "markdown",
      "metadata": {
        "id": "kMuhx_fWMenq"
      },
      "source": [
        "``` ```"
      ]
    },
    {
      "cell_type": "code",
      "metadata": {
        "id": "OOPKUNatMenq",
        "colab": {
          "base_uri": "https://localhost:8080/"
        },
        "collapsed": true,
        "outputId": "a430123b-49b6-408b-ea29-94f8be51efe6"
      },
      "source": [
        "print(b_inv @ b)"
      ],
      "execution_count": null,
      "outputs": [
        {
          "output_type": "stream",
          "text": [
            "[[ 1.00000000e+00 -2.22044605e-16  1.11022302e-16  1.11022302e-16]\n",
            " [ 2.08166817e-17  1.00000000e+00 -8.32667268e-17 -1.38777878e-17]\n",
            " [ 3.03576608e-17  4.85722573e-17  1.00000000e+00  1.78676518e-16]\n",
            " [-2.77555756e-17  0.00000000e+00 -2.77555756e-17  1.00000000e+00]]\n"
          ],
          "name": "stdout"
        }
      ]
    },
    {
      "cell_type": "markdown",
      "metadata": {
        "id": "bCHNbK4cMenq"
      },
      "source": [
        "``` ```"
      ]
    },
    {
      "cell_type": "code",
      "metadata": {
        "id": "ppa_7BKYMenr",
        "colab": {
          "base_uri": "https://localhost:8080/"
        },
        "collapsed": true,
        "outputId": "59b085ca-f5ee-4bff-a1f5-3f3d651c2e78"
      },
      "source": [
        "print(np.eye(b.shape[0]))"
      ],
      "execution_count": null,
      "outputs": [
        {
          "output_type": "stream",
          "text": [
            "[[1. 0. 0. 0.]\n",
            " [0. 1. 0. 0.]\n",
            " [0. 0. 1. 0.]\n",
            " [0. 0. 0. 1.]]\n"
          ],
          "name": "stdout"
        }
      ]
    },
    {
      "cell_type": "markdown",
      "metadata": {
        "id": "XDD18lZgMenr"
      },
      "source": [
        "``` ```"
      ]
    },
    {
      "cell_type": "markdown",
      "metadata": {
        "id": "rgL7uSQUMenr"
      },
      "source": [
        "``` ```"
      ]
    },
    {
      "cell_type": "markdown",
      "metadata": {
        "id": "KEFLBcRNMenr"
      },
      "source": [
        "## Concatenating arrays\n"
      ]
    },
    {
      "cell_type": "markdown",
      "metadata": {
        "id": "wNTi2DTMMenr"
      },
      "source": [
        "```#--------------------------------------```\n"
      ]
    },
    {
      "cell_type": "code",
      "metadata": {
        "id": "5C9EtHsIMenr"
      },
      "source": [
        "a = np.floor(10*np.random.random((2,2)))"
      ],
      "execution_count": null,
      "outputs": []
    },
    {
      "cell_type": "code",
      "metadata": {
        "id": "I5W_SwD7Menr",
        "colab": {
          "base_uri": "https://localhost:8080/"
        },
        "collapsed": true,
        "outputId": "976b5d4d-9b24-4c30-b36f-5ad125b7d800"
      },
      "source": [
        "print(a)"
      ],
      "execution_count": null,
      "outputs": [
        {
          "output_type": "stream",
          "text": [
            "[[9. 6.]\n",
            " [4. 7.]]\n"
          ],
          "name": "stdout"
        }
      ]
    },
    {
      "cell_type": "markdown",
      "metadata": {
        "id": "8ETKeqwKMenr"
      },
      "source": [
        "``` ```"
      ]
    },
    {
      "cell_type": "code",
      "metadata": {
        "id": "hOrB7x5wMenr"
      },
      "source": [
        "b = np.floor(10*np.random.random((2,2)))"
      ],
      "execution_count": null,
      "outputs": []
    },
    {
      "cell_type": "code",
      "metadata": {
        "id": "oYlR5SwpMens",
        "colab": {
          "base_uri": "https://localhost:8080/"
        },
        "collapsed": true,
        "outputId": "cfe6651a-78eb-4057-ddf0-c4e7877c3fb6"
      },
      "source": [
        "print(b)"
      ],
      "execution_count": null,
      "outputs": [
        {
          "output_type": "stream",
          "text": [
            "[[2. 0.]\n",
            " [8. 5.]]\n"
          ],
          "name": "stdout"
        }
      ]
    },
    {
      "cell_type": "markdown",
      "metadata": {
        "id": "87Ji5q5KMens"
      },
      "source": [
        "``` ```"
      ]
    },
    {
      "cell_type": "code",
      "metadata": {
        "id": "htS_IGf2Mens",
        "colab": {
          "base_uri": "https://localhost:8080/"
        },
        "collapsed": true,
        "outputId": "7ddb9506-80af-437d-e594-aeb4040ab094"
      },
      "source": [
        "print(np.vstack((a,b)))"
      ],
      "execution_count": null,
      "outputs": [
        {
          "output_type": "stream",
          "text": [
            "[[9. 6.]\n",
            " [4. 7.]\n",
            " [2. 0.]\n",
            " [8. 5.]]\n"
          ],
          "name": "stdout"
        }
      ]
    },
    {
      "cell_type": "markdown",
      "metadata": {
        "id": "-XYNz23iMens"
      },
      "source": [
        "``` ```"
      ]
    },
    {
      "cell_type": "code",
      "metadata": {
        "id": "CjoEWditMens",
        "colab": {
          "base_uri": "https://localhost:8080/"
        },
        "collapsed": true,
        "outputId": "19dca0da-3605-4d3d-eb3a-302fc7e92b6f"
      },
      "source": [
        "print(np.hstack((a,b)))"
      ],
      "execution_count": null,
      "outputs": [
        {
          "output_type": "stream",
          "text": [
            "[[9. 6. 2. 0.]\n",
            " [4. 7. 8. 5.]]\n"
          ],
          "name": "stdout"
        }
      ]
    },
    {
      "cell_type": "markdown",
      "metadata": {
        "id": "Z1AeRV78Mens"
      },
      "source": [
        "``` ```"
      ]
    },
    {
      "cell_type": "markdown",
      "metadata": {
        "id": "K0L2SApcMens"
      },
      "source": [
        "``` ```"
      ]
    },
    {
      "cell_type": "markdown",
      "metadata": {
        "id": "dcd0_ki1Mens"
      },
      "source": [
        "## Copying arrays\n"
      ]
    },
    {
      "cell_type": "markdown",
      "metadata": {
        "id": "vn0AwrHrMens"
      },
      "source": [
        "```#--------------------------------------```\n"
      ]
    },
    {
      "cell_type": "markdown",
      "metadata": {
        "id": "HD_acWbNMent"
      },
      "source": [
        "```# Simple assignments make no copy of array objects or of their data.```\n"
      ]
    },
    {
      "cell_type": "code",
      "metadata": {
        "id": "CmxqBcVSMent"
      },
      "source": [
        "a = np.arange(12)"
      ],
      "execution_count": null,
      "outputs": []
    },
    {
      "cell_type": "code",
      "metadata": {
        "id": "kQpgnyprMent"
      },
      "source": [
        "b = a            # no new object is created"
      ],
      "execution_count": null,
      "outputs": []
    },
    {
      "cell_type": "code",
      "metadata": {
        "id": "16WBoY8xMent",
        "colab": {
          "base_uri": "https://localhost:8080/"
        },
        "collapsed": true,
        "outputId": "fdb5a136-9734-4ec7-e0b0-af67468b86d3"
      },
      "source": [
        "print(b is a)    # a and b are two names for the same ndarray object"
      ],
      "execution_count": null,
      "outputs": [
        {
          "output_type": "stream",
          "text": [
            "True\n"
          ],
          "name": "stdout"
        }
      ]
    },
    {
      "cell_type": "markdown",
      "metadata": {
        "id": "IpF6ZV4eMent"
      },
      "source": [
        "``` ```"
      ]
    },
    {
      "cell_type": "code",
      "metadata": {
        "id": "pgG_bCDrMent"
      },
      "source": [
        "b.shape = 3,4    # changes the shape of a"
      ],
      "execution_count": null,
      "outputs": []
    },
    {
      "cell_type": "code",
      "metadata": {
        "id": "V8nwiZafMent",
        "colab": {
          "base_uri": "https://localhost:8080/"
        },
        "collapsed": true,
        "outputId": "d70cccfe-94dd-4584-8cbd-3fc4ecb46867"
      },
      "source": [
        "print(a.shape)"
      ],
      "execution_count": null,
      "outputs": [
        {
          "output_type": "stream",
          "text": [
            "(3, 4)\n"
          ],
          "name": "stdout"
        }
      ]
    },
    {
      "cell_type": "markdown",
      "metadata": {
        "id": "JitbngxZMent"
      },
      "source": [
        "``` ```"
      ]
    },
    {
      "cell_type": "markdown",
      "metadata": {
        "id": "pSfwjy_qMenv"
      },
      "source": [
        "```# Python passes mutable objects as references, so function calls make no copy.```\n"
      ]
    },
    {
      "cell_type": "code",
      "metadata": {
        "id": "jAdVNS4MMenv"
      },
      "source": [
        "def f(x):\n",
        "    print(id(x))"
      ],
      "execution_count": null,
      "outputs": []
    },
    {
      "cell_type": "code",
      "metadata": {
        "id": "8n6LDhqPMenw",
        "colab": {
          "base_uri": "https://localhost:8080/"
        },
        "collapsed": true,
        "outputId": "0bcf11dc-a3f9-4b87-ccbf-8e787fe70694"
      },
      "source": [
        "print(id(a))     # id is a unique identifier of an object"
      ],
      "execution_count": null,
      "outputs": [
        {
          "output_type": "stream",
          "text": [
            "140417722811136\n"
          ],
          "name": "stdout"
        }
      ]
    },
    {
      "cell_type": "code",
      "metadata": {
        "id": "Qgp1B47-Menw",
        "colab": {
          "base_uri": "https://localhost:8080/"
        },
        "collapsed": true,
        "outputId": "70a11e56-4a3d-4464-d037-4b5811e6fe03"
      },
      "source": [
        "f(a)"
      ],
      "execution_count": null,
      "outputs": [
        {
          "output_type": "stream",
          "text": [
            "140417722811136\n"
          ],
          "name": "stdout"
        }
      ]
    },
    {
      "cell_type": "markdown",
      "metadata": {
        "id": "0krjFV8eMenw"
      },
      "source": [
        "``` ```"
      ]
    },
    {
      "cell_type": "markdown",
      "metadata": {
        "id": "uFUvZNaMMenw"
      },
      "source": [
        "``` ```"
      ]
    },
    {
      "cell_type": "markdown",
      "metadata": {
        "id": "NyCF2bR2Menw"
      },
      "source": [
        "``` ```"
      ]
    },
    {
      "cell_type": "markdown",
      "metadata": {
        "id": "fF9ng0IJMenw"
      },
      "source": [
        "# matplotlib\n"
      ]
    },
    {
      "cell_type": "markdown",
      "metadata": {
        "id": "yIfIuPJdMenw"
      },
      "source": [
        "```#-------------------------------------------------------------------------------```\n"
      ]
    },
    {
      "cell_type": "code",
      "metadata": {
        "id": "juqg1jAIMenw"
      },
      "source": [
        "import matplotlib as mpl         # Generally, all external modules are imported "
      ],
      "execution_count": null,
      "outputs": []
    },
    {
      "cell_type": "code",
      "metadata": {
        "id": "ew9PTHM2Menw"
      },
      "source": [
        "import matplotlib.pyplot as plt  # at the beginning of the script"
      ],
      "execution_count": null,
      "outputs": []
    },
    {
      "cell_type": "markdown",
      "metadata": {
        "id": "HXrE_Ir6Menw"
      },
      "source": [
        "``` ```"
      ]
    },
    {
      "cell_type": "markdown",
      "metadata": {
        "id": "yZK1FlOaMenx"
      },
      "source": [
        "``` ```"
      ]
    },
    {
      "cell_type": "code",
      "metadata": {
        "id": "KVCk5pTZMenx"
      },
      "source": [
        "def showFigure():\n",
        "    fig.savefig(\"my_plot.png\", bbox_inches='tight')\n",
        "    # plt.show()"
      ],
      "execution_count": null,
      "outputs": []
    },
    {
      "cell_type": "markdown",
      "metadata": {
        "id": "pViCYLgjMenx"
      },
      "source": [
        "``` ```"
      ]
    },
    {
      "cell_type": "markdown",
      "metadata": {
        "id": "LDOcRfRWMenx"
      },
      "source": [
        "``` ```"
      ]
    },
    {
      "cell_type": "markdown",
      "metadata": {
        "id": "HWqF-E02Menx"
      },
      "source": [
        "## Creating a figure\n"
      ]
    },
    {
      "cell_type": "markdown",
      "metadata": {
        "id": "KkN_-EYQMenx"
      },
      "source": [
        "```#--------------------------------------```\n"
      ]
    },
    {
      "cell_type": "code",
      "metadata": {
        "id": "RUn8EsSaMenx",
        "colab": {
          "base_uri": "https://localhost:8080/",
          "height": 465
        },
        "collapsed": true,
        "outputId": "73e84a04-c0fc-4e9e-b6ea-11bc3d56919a"
      },
      "source": [
        "fig, ax = plt.subplots(1, 1, figsize = (8.4,7.6))"
      ],
      "execution_count": null,
      "outputs": [
        {
          "output_type": "display_data",
          "data": {
            "image/png": "[encoded data removed]",
            "text/plain": [
              "<Figure size 604.8x547.2 with 1 Axes>"
            ]
          },
          "metadata": {
            "tags": [],
            "needs_background": "light"
          }
        }
      ]
    },
    {
      "cell_type": "code",
      "metadata": {
        "id": "dr9-8h3YMeny"
      },
      "source": [
        "showFigure()"
      ],
      "execution_count": null,
      "outputs": []
    },
    {
      "cell_type": "markdown",
      "metadata": {
        "id": "Uq_Ig-WrMeny"
      },
      "source": [
        "``` ```"
      ]
    },
    {
      "cell_type": "markdown",
      "metadata": {
        "id": "Pz1Ry1TwMeny"
      },
      "source": [
        "``` ```"
      ]
    },
    {
      "cell_type": "markdown",
      "metadata": {
        "id": "a5VYaOpIMeny"
      },
      "source": [
        "## Plotting data\n"
      ]
    },
    {
      "cell_type": "markdown",
      "metadata": {
        "id": "zv4A2SzZMeny"
      },
      "source": [
        "```#--------------------------------------```\n"
      ]
    },
    {
      "cell_type": "markdown",
      "metadata": {
        "id": "2aTZPUveMenz"
      },
      "source": [
        "```# Create figure```\n"
      ]
    },
    {
      "cell_type": "code",
      "metadata": {
        "id": "D3KobLA8Menz",
        "colab": {
          "base_uri": "https://localhost:8080/",
          "height": 465
        },
        "collapsed": true,
        "outputId": "9d6f7908-dce5-4124-a658-1cc0379b6313"
      },
      "source": [
        "fig, ax = plt.subplots(1, 1, figsize = (8.4,7.6))"
      ],
      "execution_count": null,
      "outputs": [
        {
          "output_type": "display_data",
          "data": {
            "image/png": "[encoded data removed]",
            "text/plain": [
              "<Figure size 604.8x547.2 with 1 Axes>"
            ]
          },
          "metadata": {
            "tags": [],
            "needs_background": "light"
          }
        }
      ]
    },
    {
      "cell_type": "markdown",
      "metadata": {
        "id": "qsYJVLbBMenz"
      },
      "source": [
        "``` ```"
      ]
    },
    {
      "cell_type": "markdown",
      "metadata": {
        "id": "KUOVmpY2Menz"
      },
      "source": [
        "```# Read the data from the file```\n"
      ]
    },
    {
      "cell_type": "code",
      "metadata": {
        "id": "uIyjdyAEMenz"
      },
      "source": [
        "read_data = read_csv(\"titanic.dat\", \n",
        "delim_whitespace=True, \n",
        "skiprows=1, \n",
        "header=None,\n",
        "usecols=[TitanicDataIdx[\"PassengerId\"],\n",
        "            TitanicDataIdx[\"Survived\"],\n",
        "            TitanicDataIdx[\"Name\"],\n",
        "            TitanicDataIdx[\"Age\"],\n",
        "            TitanicDataIdx[\"Sex\"],\n",
        "            TitanicDataIdx[\"Pclass\"]])"
      ],
      "execution_count": null,
      "outputs": []
    },
    {
      "cell_type": "markdown",
      "metadata": {
        "id": "2TykO1KlMen0"
      },
      "source": [
        "``` ```"
      ]
    },
    {
      "cell_type": "code",
      "metadata": {
        "id": "dJ1WAfM7Men0",
        "colab": {
          "base_uri": "https://localhost:8080/"
        },
        "collapsed": true,
        "outputId": "df3cf3fc-4ce8-479a-9c49-5f48f4d6d009"
      },
      "source": [
        "print(read_data)"
      ],
      "execution_count": null,
      "outputs": [
        {
          "output_type": "stream",
          "text": [
            "       0  1  2                                                  3       4     5\n",
            "0      1  0  3                           Braund   Mr. Owen Harris    male  22.0\n",
            "1      2  1  1  Cumings   Mrs. John Bradley (Florence Briggs T...  female  38.0\n",
            "2      3  1  3                            Heikkinen   Miss. Laina  female  26.0\n",
            "3      4  1  1      Futrelle   Mrs. Jacques Heath (Lily May Peel)  female  35.0\n",
            "4      5  0  3                          Allen   Mr. William Henry    male  35.0\n",
            "..   ... .. ..                                                ...     ...   ...\n",
            "886  887  0  2                             Montvila   Rev. Juozas    male  27.0\n",
            "887  888  1  1                      Graham   Miss. Margaret Edith  female  19.0\n",
            "888  889  0  3          Johnston   Miss. Catherine Helen \"Carrie\"  female   1.0\n",
            "889  890  1  1                             Behr   Mr. Karl Howell    male  26.0\n",
            "890  891  0  3                               Dooley   Mr. Patrick    male  32.0\n",
            "\n",
            "[891 rows x 6 columns]\n"
          ],
          "name": "stdout"
        }
      ]
    },
    {
      "cell_type": "markdown",
      "metadata": {
        "id": "gCeb48OlMen0"
      },
      "source": [
        "``` ```"
      ]
    },
    {
      "cell_type": "code",
      "metadata": {
        "id": "CSOMgDqyMen0"
      },
      "source": [
        "from numpy.lib.arraysetops import unique"
      ],
      "execution_count": null,
      "outputs": []
    },
    {
      "cell_type": "markdown",
      "metadata": {
        "id": "SzI20OpSMen1"
      },
      "source": [
        "``` ```"
      ]
    },
    {
      "cell_type": "code",
      "metadata": {
        "id": "iVZhfiw1Men1"
      },
      "source": [
        "xData = np.array(sorted(unique(read_data[TitanicDataIdx[\"Age\"]])))"
      ],
      "execution_count": null,
      "outputs": []
    },
    {
      "cell_type": "code",
      "metadata": {
        "id": "VNrD6YXuMen1"
      },
      "source": [
        "yData = np.array([])"
      ],
      "execution_count": null,
      "outputs": []
    },
    {
      "cell_type": "code",
      "metadata": {
        "id": "CSmOpYM1Men1"
      },
      "source": [
        "for age in xData:\n",
        "    filter_cond = read_data[TitanicDataIdx[\"Age\"]] == age\n",
        "    yData = \\\n",
        "        np.append(\n",
        "            yData, \n",
        "            read_data[TitanicDataIdx[\"Survived\"]][filter_cond].sum()\n",
        "        )"
      ],
      "execution_count": null,
      "outputs": []
    },
    {
      "cell_type": "markdown",
      "metadata": {
        "id": "pbcZ-nUUMen2"
      },
      "source": [
        "``` ```"
      ]
    },
    {
      "cell_type": "code",
      "metadata": {
        "id": "c6tYXEbQMen2",
        "colab": {
          "base_uri": "https://localhost:8080/"
        },
        "collapsed": true,
        "outputId": "d03f8fa0-2a18-4414-e41d-65805e7cc6a9"
      },
      "source": [
        "print(xData)"
      ],
      "execution_count": null,
      "outputs": [
        {
          "output_type": "stream",
          "text": [
            "[ 0.    0.42  0.67  0.75  0.83  0.92  1.    2.    3.    4.    5.    6.\n",
            "  7.    8.    9.   10.   11.   12.   13.   14.   14.5  15.   16.   17.\n",
            " 18.   19.   20.   20.5  21.   22.   23.   23.5  24.   24.5  25.   26.\n",
            " 27.   28.   28.5  29.   30.   30.5  31.   32.   32.5  33.   34.   34.5\n",
            " 35.   36.   36.5  37.   38.   39.   40.   40.5  41.   42.   43.   44.\n",
            " 45.   45.5  46.   47.   48.   49.   50.   51.   52.   53.   54.   55.\n",
            " 55.5  56.   57.   58.   59.   60.   61.   62.   63.   64.   65.   66.\n",
            " 70.   70.5  71.   74.   80.  ]\n"
          ],
          "name": "stdout"
        }
      ]
    },
    {
      "cell_type": "code",
      "metadata": {
        "id": "uVEYpqeLMen2",
        "colab": {
          "base_uri": "https://localhost:8080/"
        },
        "collapsed": true,
        "outputId": "ad4db54c-8564-469d-fc6a-ca156d2b194a"
      },
      "source": [
        "print(yData)"
      ],
      "execution_count": null,
      "outputs": [
        {
          "output_type": "stream",
          "text": [
            "[35.  1.  1.  2.  2.  1. 20.  5.  5.  7.  4.  2.  1.  2.  2.  0.  1.  1.\n",
            "  2.  3.  0.  4.  6.  6.  9.  9.  3.  0.  5. 11.  5.  0. 15.  0.  6.  6.\n",
            " 11.  7.  0.  8. 10.  0.  8.  9.  1.  6.  6.  0. 11. 11.  0.  1.  5.  5.\n",
            "  6.  0.  2.  6.  1.  3.  5.  0.  0.  1.  6.  4.  5.  2.  3.  1.  3.  1.\n",
            "  0.  2.  0.  3.  0.  2.  0.  2.  2.  0.  0.  0.  0.  0.  0.  0.  1.]\n"
          ],
          "name": "stdout"
        }
      ]
    },
    {
      "cell_type": "markdown",
      "metadata": {
        "id": "EnxlJXHAMen5"
      },
      "source": [
        "``` ```"
      ]
    },
    {
      "cell_type": "code",
      "metadata": {
        "id": "-U5k7JhmMen6",
        "colab": {
          "base_uri": "https://localhost:8080/"
        },
        "collapsed": true,
        "outputId": "877723a8-744f-457e-b21f-e500408b2133"
      },
      "source": [
        "ax.plot(xData, yData)"
      ],
      "execution_count": null,
      "outputs": [
        {
          "output_type": "execute_result",
          "data": {
            "text/plain": [
              "[<matplotlib.lines.Line2D at 0x7fb58355ce90>]"
            ]
          },
          "metadata": {
            "tags": []
          },
          "execution_count": 229
        }
      ]
    },
    {
      "cell_type": "code",
      "metadata": {
        "id": "MTNmKtZSMen6"
      },
      "source": [
        "showFigure()"
      ],
      "execution_count": null,
      "outputs": []
    },
    {
      "cell_type": "markdown",
      "metadata": {
        "id": "CSw4DOT9Men6"
      },
      "source": [
        "``` ```"
      ]
    },
    {
      "cell_type": "code",
      "metadata": {
        "id": "CxAZn3_RMen6"
      },
      "source": [
        "ax.clear()"
      ],
      "execution_count": null,
      "outputs": []
    },
    {
      "cell_type": "code",
      "metadata": {
        "id": "H4BUTIVvMen6",
        "colab": {
          "base_uri": "https://localhost:8080/"
        },
        "collapsed": true,
        "outputId": "243c336a-4269-4935-c510-5f7297abd6a0"
      },
      "source": [
        "ax.scatter(xData, yData)"
      ],
      "execution_count": null,
      "outputs": [
        {
          "output_type": "execute_result",
          "data": {
            "text/plain": [
              "<matplotlib.collections.PathCollection at 0x7fb5838c1c90>"
            ]
          },
          "metadata": {
            "tags": []
          },
          "execution_count": 232
        }
      ]
    },
    {
      "cell_type": "code",
      "metadata": {
        "id": "ywhnotKVMen6"
      },
      "source": [
        "showFigure()"
      ],
      "execution_count": null,
      "outputs": []
    },
    {
      "cell_type": "markdown",
      "metadata": {
        "id": "nTG-ItSCMen6"
      },
      "source": [
        "``` ```"
      ]
    },
    {
      "cell_type": "markdown",
      "metadata": {
        "id": "eNaggXfKMen6"
      },
      "source": [
        "``` ```"
      ]
    },
    {
      "cell_type": "markdown",
      "metadata": {
        "id": "0efT5EoZMen6"
      },
      "source": [
        "## Adding a colormap and a colorbar\n"
      ]
    },
    {
      "cell_type": "markdown",
      "metadata": {
        "id": "ZgahN7E6Men7"
      },
      "source": [
        "```#--------------------------------------```\n"
      ]
    },
    {
      "cell_type": "code",
      "metadata": {
        "id": "aFS3WGMTMen7"
      },
      "source": [
        "zData = []\n",
        "for age in xData:\n",
        "    filter_cond = read_data[TitanicDataIdx[\"Age\"]] == age\n",
        "    filter_cond2 = read_data[TitanicDataIdx[\"Survived\"]] == 1\n",
        "    zData.append(\n",
        "        read_data[TitanicDataIdx[\"Pclass\"]][filter_cond][filter_cond2].median()\n",
        "        )\n",
        "\n",
        "zData = np.array(zData)"
      ],
      "execution_count": null,
      "outputs": []
    },
    {
      "cell_type": "markdown",
      "metadata": {
        "id": "MgVmR1GvMen8"
      },
      "source": [
        "``` ```"
      ]
    },
    {
      "cell_type": "code",
      "metadata": {
        "id": "0ZX0l-eIMen8",
        "colab": {
          "base_uri": "https://localhost:8080/"
        },
        "collapsed": true,
        "outputId": "fbfce789-2a7a-4e63-fb53-accf87da84ff"
      },
      "source": [
        "print(zData)"
      ],
      "execution_count": null,
      "outputs": [
        {
          "output_type": "stream",
          "text": [
            "[3.  3.  2.  3.  2.  1.  3.  3.  2.  3.  3.  2.5 2.  2.  3.  nan 1.  3.\n",
            " 2.5 2.  nan 3.  2.  1.5 2.  2.  3.  nan 2.  2.  1.  nan 2.  nan 2.  3.\n",
            " 3.  2.  nan 2.5 1.5 nan 2.  3.  2.  1.5 2.  nan 1.  1.  nan 1.  1.  1.\n",
            " 1.5 nan 1.5 1.5 1.  1.  2.  nan nan 1.  1.  1.  2.  1.  1.  1.  1.  2.\n",
            " nan 1.  nan 1.  nan 1.  nan 1.5 2.  nan nan nan nan nan nan nan 1. ]\n"
          ],
          "name": "stdout"
        }
      ]
    },
    {
      "cell_type": "markdown",
      "metadata": {
        "id": "xaacBLBvMen8"
      },
      "source": [
        "``` ```"
      ]
    },
    {
      "cell_type": "markdown",
      "metadata": {
        "id": "wuDNuYolMen8"
      },
      "source": [
        "```# Normalize data into the [0.0, 1.0] interval```\n"
      ]
    },
    {
      "cell_type": "code",
      "metadata": {
        "id": "r80P0JjbMen8"
      },
      "source": [
        "vMin = min(zData) # get minimum z\n",
        "vMax = max(zData) # get maximum z\n",
        "normalize = mpl.cm.colors.Normalize(vmin=vMin, vmax=vMax)"
      ],
      "execution_count": null,
      "outputs": []
    },
    {
      "cell_type": "markdown",
      "metadata": {
        "id": "g6taMC2KMen9"
      },
      "source": [
        "``` ```"
      ]
    },
    {
      "cell_type": "markdown",
      "metadata": {
        "id": "4M2gGpYTMen9"
      },
      "source": [
        "```# Set the position of the colorbar```\n"
      ]
    },
    {
      "cell_type": "code",
      "metadata": {
        "id": "-ac_bfqpMen9"
      },
      "source": [
        "from mpl_toolkits.axes_grid1 import make_axes_locatable\n",
        "divider = make_axes_locatable(ax)\n",
        "color_ax = divider.append_axes(\"right\", size=\"3%\", pad=\"2%\")"
      ],
      "execution_count": null,
      "outputs": []
    },
    {
      "cell_type": "markdown",
      "metadata": {
        "id": "AY7MUK-TMen9"
      },
      "source": [
        "``` ```"
      ]
    },
    {
      "cell_type": "markdown",
      "metadata": {
        "id": "_HUkoStgMen9"
      },
      "source": [
        "```# Get a colormap from the list```\n"
      ]
    },
    {
      "cell_type": "code",
      "metadata": {
        "colab": {
          "base_uri": "https://localhost:8080/"
        },
        "id": "ncPhROWPrJk0",
        "collapsed": true,
        "outputId": "ebf75dc7-7f9d-4aa5-965b-25bb877fc403"
      },
      "source": [
        "print(plt.colormaps())"
      ],
      "execution_count": null,
      "outputs": [
        {
          "output_type": "stream",
          "text": [
            "['Accent', 'Accent_r', 'Blues', 'Blues_r', 'BrBG', 'BrBG_r', 'BuGn', 'BuGn_r', 'BuPu', 'BuPu_r', 'CMRmap', 'CMRmap_r', 'Dark2', 'Dark2_r', 'GnBu', 'GnBu_r', 'Greens', 'Greens_r', 'Greys', 'Greys_r', 'OrRd', 'OrRd_r', 'Oranges', 'Oranges_r', 'PRGn', 'PRGn_r', 'Paired', 'Paired_r', 'Pastel1', 'Pastel1_r', 'Pastel2', 'Pastel2_r', 'PiYG', 'PiYG_r', 'PuBu', 'PuBuGn', 'PuBuGn_r', 'PuBu_r', 'PuOr', 'PuOr_r', 'PuRd', 'PuRd_r', 'Purples', 'Purples_r', 'RdBu', 'RdBu_r', 'RdGy', 'RdGy_r', 'RdPu', 'RdPu_r', 'RdYlBu', 'RdYlBu_r', 'RdYlGn', 'RdYlGn_r', 'Reds', 'Reds_r', 'Set1', 'Set1_r', 'Set2', 'Set2_r', 'Set3', 'Set3_r', 'Spectral', 'Spectral_r', 'Wistia', 'Wistia_r', 'YlGn', 'YlGnBu', 'YlGnBu_r', 'YlGn_r', 'YlOrBr', 'YlOrBr_r', 'YlOrRd', 'YlOrRd_r', 'afmhot', 'afmhot_r', 'autumn', 'autumn_r', 'binary', 'binary_r', 'bone', 'bone_r', 'brg', 'brg_r', 'bwr', 'bwr_r', 'cividis', 'cividis_r', 'cool', 'cool_r', 'coolwarm', 'coolwarm_r', 'copper', 'copper_r', 'cubehelix', 'cubehelix_r', 'flag', 'flag_r', 'gist_earth', 'gist_earth_r', 'gist_gray', 'gist_gray_r', 'gist_heat', 'gist_heat_r', 'gist_ncar', 'gist_ncar_r', 'gist_rainbow', 'gist_rainbow_r', 'gist_stern', 'gist_stern_r', 'gist_yarg', 'gist_yarg_r', 'gnuplot', 'gnuplot2', 'gnuplot2_r', 'gnuplot_r', 'gray', 'gray_r', 'hot', 'hot_r', 'hsv', 'hsv_r', 'inferno', 'inferno_r', 'jet', 'jet_r', 'magma', 'magma_r', 'nipy_spectral', 'nipy_spectral_r', 'ocean', 'ocean_r', 'pink', 'pink_r', 'plasma', 'plasma_r', 'prism', 'prism_r', 'rainbow', 'rainbow_r', 'seismic', 'seismic_r', 'spring', 'spring_r', 'summer', 'summer_r', 'tab10', 'tab10_r', 'tab20', 'tab20_r', 'tab20b', 'tab20b_r', 'tab20c', 'tab20c_r', 'terrain', 'terrain_r', 'twilight', 'twilight_r', 'twilight_shifted', 'twilight_shifted_r', 'viridis', 'viridis_r', 'winter', 'winter_r']\n"
          ],
          "name": "stdout"
        }
      ]
    },
    {
      "cell_type": "code",
      "metadata": {
        "id": "MwiSzg5pMen-"
      },
      "source": [
        "cmap = mpl.cm.get_cmap('gnuplot')"
      ],
      "execution_count": null,
      "outputs": []
    },
    {
      "cell_type": "markdown",
      "metadata": {
        "id": "qD160DxpMen-"
      },
      "source": [
        "``` ```"
      ]
    },
    {
      "cell_type": "markdown",
      "metadata": {
        "id": "IzdpfkMKMen-"
      },
      "source": [
        "```# Set the colorbar```\n"
      ]
    },
    {
      "cell_type": "code",
      "metadata": {
        "id": "1PzcUHIXMen-"
      },
      "source": [
        "cbar = mpl.colorbar.ColorbarBase(color_ax, \n",
        "cmap=cmap,\n",
        "norm=normalize,\n",
        "label=\"median(Pclass)\")"
      ],
      "execution_count": null,
      "outputs": []
    },
    {
      "cell_type": "markdown",
      "metadata": {
        "id": "Nl1Kt1VfMen-"
      },
      "source": [
        "``` ```"
      ]
    },
    {
      "cell_type": "markdown",
      "metadata": {
        "id": "cGha7IH8Men-"
      },
      "source": [
        "```# Handle NaN in zData```\n"
      ]
    },
    {
      "cell_type": "code",
      "metadata": {
        "id": "cKBPHij_Men_"
      },
      "source": [
        "filter_nan = np.logical_not(np.isnan(zData))"
      ],
      "execution_count": null,
      "outputs": []
    },
    {
      "cell_type": "markdown",
      "metadata": {
        "id": "VKxSdMDTMen_"
      },
      "source": [
        "``` ```"
      ]
    },
    {
      "cell_type": "code",
      "metadata": {
        "id": "hxIp1BjKMen_"
      },
      "source": [
        "ax.clear()"
      ],
      "execution_count": null,
      "outputs": []
    },
    {
      "cell_type": "markdown",
      "metadata": {
        "id": "UOxBxrN-Men_"
      },
      "source": [
        "``` ```"
      ]
    },
    {
      "cell_type": "markdown",
      "metadata": {
        "id": "0IfZxfZmMen_"
      },
      "source": [
        "```# Plot filtering NaN out```\n"
      ]
    },
    {
      "cell_type": "code",
      "metadata": {
        "id": "CDO-FppgMen_",
        "colab": {
          "base_uri": "https://localhost:8080/"
        },
        "collapsed": true,
        "outputId": "b5254ba9-567b-4b70-e0dc-136bfcbe6726"
      },
      "source": [
        "ax.scatter(xData[filter_nan], yData[filter_nan], \n",
        "c = cmap(normalize(zData[filter_nan])), zorder=10)"
      ],
      "execution_count": null,
      "outputs": [
        {
          "output_type": "execute_result",
          "data": {
            "text/plain": [
              "<matplotlib.collections.PathCollection at 0x7fb583475dd0>"
            ]
          },
          "metadata": {
            "tags": []
          },
          "execution_count": 244
        }
      ]
    },
    {
      "cell_type": "markdown",
      "metadata": {
        "id": "Wen3vVvGMeoA"
      },
      "source": [
        "``` ```"
      ]
    },
    {
      "cell_type": "code",
      "metadata": {
        "id": "tMkKh556MeoA"
      },
      "source": [
        "showFigure()"
      ],
      "execution_count": null,
      "outputs": []
    },
    {
      "cell_type": "markdown",
      "metadata": {
        "id": "-_Ye0oqLMeoA"
      },
      "source": [
        "``` ```"
      ]
    },
    {
      "cell_type": "markdown",
      "metadata": {
        "id": "OWZk_cJIMeoA"
      },
      "source": [
        "``` ```"
      ]
    },
    {
      "cell_type": "markdown",
      "metadata": {
        "id": "bSb1eP7EMeoA"
      },
      "source": [
        "## Setting the title, axes, grid...\n"
      ]
    },
    {
      "cell_type": "markdown",
      "metadata": {
        "id": "oXMCLDSLMeoA"
      },
      "source": [
        "```#--------------------------------------```\n"
      ]
    },
    {
      "cell_type": "code",
      "metadata": {
        "id": "3BlS0KH1MeoA",
        "colab": {
          "base_uri": "https://localhost:8080/"
        },
        "collapsed": true,
        "outputId": "7aa81036-a3a2-45ff-f357-b695f3ac8b6f"
      },
      "source": [
        "ax.set_title(\"Number of Titanic survivors vs age\")"
      ],
      "execution_count": null,
      "outputs": [
        {
          "output_type": "execute_result",
          "data": {
            "text/plain": [
              "Text(0.5, 1.0, 'Number of Titanic survivors vs age')"
            ]
          },
          "metadata": {
            "tags": []
          },
          "execution_count": 246
        }
      ]
    },
    {
      "cell_type": "code",
      "metadata": {
        "id": "x4JjMu0-MeoA",
        "colab": {
          "base_uri": "https://localhost:8080/"
        },
        "collapsed": true,
        "outputId": "23ecbd41-3e8e-499c-f2bb-89498ff7783a"
      },
      "source": [
        "ax.set_xlabel(\"Age\")"
      ],
      "execution_count": null,
      "outputs": [
        {
          "output_type": "execute_result",
          "data": {
            "text/plain": [
              "Text(0.5, 3.200000000000003, 'Age')"
            ]
          },
          "metadata": {
            "tags": []
          },
          "execution_count": 248
        }
      ]
    },
    {
      "cell_type": "code",
      "metadata": {
        "id": "D2eA1x_5MeoB",
        "colab": {
          "base_uri": "https://localhost:8080/"
        },
        "collapsed": true,
        "outputId": "20122b88-5faf-464d-f3d5-39f9123ba47b"
      },
      "source": [
        "ax.set_ylabel(\"Number of survivors\")"
      ],
      "execution_count": null,
      "outputs": [
        {
          "output_type": "execute_result",
          "data": {
            "text/plain": [
              "Text(3.1999999999999957, 0.5, 'Number of survivors')"
            ]
          },
          "metadata": {
            "tags": []
          },
          "execution_count": 249
        }
      ]
    },
    {
      "cell_type": "code",
      "metadata": {
        "id": "1OH5VuWRMeoB"
      },
      "source": [
        "ax.grid(zorder=0)"
      ],
      "execution_count": null,
      "outputs": []
    },
    {
      "cell_type": "markdown",
      "metadata": {
        "id": "HfZovvRnMeoB"
      },
      "source": [
        "``` ```"
      ]
    },
    {
      "cell_type": "code",
      "metadata": {
        "id": "CFujtSxaMeoB"
      },
      "source": [
        "showFigure()"
      ],
      "execution_count": null,
      "outputs": []
    },
    {
      "cell_type": "markdown",
      "metadata": {
        "id": "VTljldxCMeoB"
      },
      "source": [
        "``` ```"
      ]
    },
    {
      "cell_type": "markdown",
      "metadata": {
        "id": "T0e4-OVEMeoB"
      },
      "source": [
        "``` ```"
      ]
    },
    {
      "cell_type": "markdown",
      "metadata": {
        "id": "BIsnbp3dMeoB"
      },
      "source": [
        "## Setting marker\n"
      ]
    },
    {
      "cell_type": "markdown",
      "metadata": {
        "id": "SeYCqFGEMeoB"
      },
      "source": [
        "```#--------------------------------------```\n"
      ]
    },
    {
      "cell_type": "code",
      "metadata": {
        "id": "oMeC5G93MeoB"
      },
      "source": [
        "ax.clear()"
      ],
      "execution_count": null,
      "outputs": []
    },
    {
      "cell_type": "markdown",
      "metadata": {
        "id": "9xzUZQ8yMeoC"
      },
      "source": [
        "``` ```"
      ]
    },
    {
      "cell_type": "code",
      "metadata": {
        "id": "oHtwjfYUMeoC",
        "colab": {
          "base_uri": "https://localhost:8080/"
        },
        "collapsed": true,
        "outputId": "11edab1a-f450-4962-83bf-b636bea7b526"
      },
      "source": [
        "ax.scatter(xData[filter_nan], yData[filter_nan], \n",
        "c = cmap(normalize(zData[filter_nan])), zorder=10,\n",
        "marker = '+')"
      ],
      "execution_count": null,
      "outputs": [
        {
          "output_type": "execute_result",
          "data": {
            "text/plain": [
              "<matplotlib.collections.PathCollection at 0x7fb5833bd750>"
            ]
          },
          "metadata": {
            "tags": []
          },
          "execution_count": 255
        }
      ]
    },
    {
      "cell_type": "markdown",
      "metadata": {
        "id": "dPt-yAw6MeoC"
      },
      "source": [
        "``` ```"
      ]
    },
    {
      "cell_type": "code",
      "metadata": {
        "id": "-KJuQeu_MeoC"
      },
      "source": [
        "showFigure()"
      ],
      "execution_count": null,
      "outputs": []
    },
    {
      "cell_type": "markdown",
      "metadata": {
        "id": "f8eLKzzOMeoC"
      },
      "source": [
        "``` ```"
      ]
    },
    {
      "cell_type": "markdown",
      "metadata": {
        "id": "V_dTNJwVMeoC"
      },
      "source": [
        "``` ```"
      ]
    },
    {
      "cell_type": "markdown",
      "metadata": {
        "id": "irLMM58vMeoC"
      },
      "source": [
        "## Plot more data\n"
      ]
    },
    {
      "cell_type": "markdown",
      "metadata": {
        "id": "KNk7vTE1MeoD"
      },
      "source": [
        "```#--------------------------------------```\n"
      ]
    },
    {
      "cell_type": "code",
      "metadata": {
        "id": "0f0fkKWaMeoD",
        "colab": {
          "base_uri": "https://localhost:8080/",
          "height": 465
        },
        "collapsed": true,
        "outputId": "99afd9b9-9526-4aa8-98bc-d58da00470c9"
      },
      "source": [
        "fig, ax = plt.subplots(1, 1, figsize = (8.4,7.6))"
      ],
      "execution_count": null,
      "outputs": [
        {
          "output_type": "display_data",
          "data": {
            "image/png": "[encoded data removed]",
            "text/plain": [
              "<Figure size 604.8x547.2 with 1 Axes>"
            ]
          },
          "metadata": {
            "tags": [],
            "needs_background": "light"
          }
        }
      ]
    },
    {
      "cell_type": "markdown",
      "metadata": {
        "id": "dclBhONoMeoD"
      },
      "source": [
        "``` ```"
      ]
    },
    {
      "cell_type": "code",
      "metadata": {
        "id": "V-iUw3odMeoD"
      },
      "source": [
        "y2Data = []\n",
        "y3Data = []\n",
        "for age in xData:\n",
        "    filter_cond = read_data[TitanicDataIdx[\"Age\"]] == age\n",
        "    filter_cond2 = read_data[TitanicDataIdx[\"Survived\"]] == 1\n",
        "    y2Data.append(\n",
        "        np.sum(\n",
        "            read_data[TitanicDataIdx[\"Sex\"]][filter_cond][filter_cond2] == 'female'\n",
        "            )\n",
        "        )\n",
        "    y3Data.append(\n",
        "        np.sum(\n",
        "            read_data[TitanicDataIdx[\"Sex\"]][filter_cond][filter_cond2] == 'male'\n",
        "            )\n",
        "        )"
      ],
      "execution_count": null,
      "outputs": []
    },
    {
      "cell_type": "markdown",
      "metadata": {
        "id": "ek6gO26jMeoE"
      },
      "source": [
        "``` ```"
      ]
    },
    {
      "cell_type": "code",
      "metadata": {
        "id": "Gy8AYQYHMeoF",
        "colab": {
          "base_uri": "https://localhost:8080/"
        },
        "collapsed": true,
        "outputId": "1809c84d-9b70-4952-e09f-ccf969063194"
      },
      "source": [
        "ax.scatter(xData, y2Data, zorder=10, marker=\"*\", c='blue')"
      ],
      "execution_count": null,
      "outputs": [
        {
          "output_type": "execute_result",
          "data": {
            "text/plain": [
              "<matplotlib.collections.PathCollection at 0x7fb58333e250>"
            ]
          },
          "metadata": {
            "tags": []
          },
          "execution_count": 259
        }
      ]
    },
    {
      "cell_type": "code",
      "metadata": {
        "id": "oqfFYNupMeoF",
        "colab": {
          "base_uri": "https://localhost:8080/"
        },
        "collapsed": true,
        "outputId": "b7cd30b1-cbb6-4e4a-9121-2a4bf2ce4c76"
      },
      "source": [
        "ax.scatter(xData, y3Data, zorder=10, marker=\".\", c='orange')"
      ],
      "execution_count": null,
      "outputs": [
        {
          "output_type": "execute_result",
          "data": {
            "text/plain": [
              "<matplotlib.collections.PathCollection at 0x7fb5832fd450>"
            ]
          },
          "metadata": {
            "tags": []
          },
          "execution_count": 260
        }
      ]
    },
    {
      "cell_type": "markdown",
      "metadata": {
        "id": "COQVaQbOMeoF"
      },
      "source": [
        "``` ```"
      ]
    },
    {
      "cell_type": "markdown",
      "metadata": {
        "id": "eLjrm5sVMeoF"
      },
      "source": [
        "```# Set legend```\n"
      ]
    },
    {
      "cell_type": "code",
      "metadata": {
        "id": "D4VJyqGZMeoF",
        "colab": {
          "base_uri": "https://localhost:8080/"
        },
        "collapsed": true,
        "outputId": "96081f92-dc15-4b21-e483-3ac14787e483"
      },
      "source": [
        "ax.legend([\"female\", \"male\"])"
      ],
      "execution_count": null,
      "outputs": [
        {
          "output_type": "execute_result",
          "data": {
            "text/plain": [
              "<matplotlib.legend.Legend at 0x7fb5832fd190>"
            ]
          },
          "metadata": {
            "tags": []
          },
          "execution_count": 261
        }
      ]
    },
    {
      "cell_type": "markdown",
      "metadata": {
        "id": "2p5grsF1MeoF"
      },
      "source": [
        "``` ```"
      ]
    },
    {
      "cell_type": "code",
      "metadata": {
        "id": "nli3R34xMeoF",
        "colab": {
          "base_uri": "https://localhost:8080/"
        },
        "collapsed": true,
        "outputId": "76ab2578-821a-4f86-bfd6-dc064fda12bb"
      },
      "source": [
        "ax.set_title(\"Number of Titanic survivors vs age\")"
      ],
      "execution_count": null,
      "outputs": [
        {
          "output_type": "execute_result",
          "data": {
            "text/plain": [
              "Text(0.5, 1.0, 'Number of Titanic survivors vs age')"
            ]
          },
          "metadata": {
            "tags": []
          },
          "execution_count": 262
        }
      ]
    },
    {
      "cell_type": "code",
      "metadata": {
        "id": "agSWMaWxMeoF",
        "colab": {
          "base_uri": "https://localhost:8080/"
        },
        "collapsed": true,
        "outputId": "43986f8a-ee84-4c2b-941f-92d89b04371d"
      },
      "source": [
        "ax.set_xlabel(\"Age\")"
      ],
      "execution_count": null,
      "outputs": [
        {
          "output_type": "execute_result",
          "data": {
            "text/plain": [
              "Text(0.5, 3.200000000000003, 'Age')"
            ]
          },
          "metadata": {
            "tags": []
          },
          "execution_count": 263
        }
      ]
    },
    {
      "cell_type": "code",
      "metadata": {
        "id": "L3jti6KVMeoF"
      },
      "source": [
        "ax.grid(zorder=0)"
      ],
      "execution_count": null,
      "outputs": []
    },
    {
      "cell_type": "markdown",
      "metadata": {
        "id": "4zEhlF-BMeoF"
      },
      "source": [
        "``` ```"
      ]
    },
    {
      "cell_type": "code",
      "metadata": {
        "id": "J6xVBy4SMeoG"
      },
      "source": [
        "showFigure()"
      ],
      "execution_count": null,
      "outputs": []
    },
    {
      "cell_type": "markdown",
      "metadata": {
        "id": "7JNl-NNzMeoG"
      },
      "source": [
        "``` ```"
      ]
    },
    {
      "cell_type": "markdown",
      "metadata": {
        "id": "qBHZJ0q4MeoG"
      },
      "source": [
        "``` ```"
      ]
    },
    {
      "cell_type": "markdown",
      "metadata": {
        "id": "qd1PaCK3MeoG"
      },
      "source": [
        "## Second axis\n"
      ]
    },
    {
      "cell_type": "markdown",
      "metadata": {
        "id": "futNvJG4MeoG"
      },
      "source": [
        "```#--------------------------------------```\n"
      ]
    },
    {
      "cell_type": "code",
      "metadata": {
        "id": "KgssEVsXMeoG"
      },
      "source": [
        "ax.clear()"
      ],
      "execution_count": null,
      "outputs": []
    },
    {
      "cell_type": "code",
      "metadata": {
        "id": "1zCjlI1wMeoG",
        "colab": {
          "base_uri": "https://localhost:8080/"
        },
        "collapsed": true,
        "outputId": "35fdccb7-d812-46af-c735-9a84ce8a42ef"
      },
      "source": [
        "ax.scatter(xData, yData, zorder=10, marker=\"+\", c='blue')"
      ],
      "execution_count": null,
      "outputs": [
        {
          "output_type": "execute_result",
          "data": {
            "text/plain": [
              "<matplotlib.collections.PathCollection at 0x7fb583301910>"
            ]
          },
          "metadata": {
            "tags": []
          },
          "execution_count": 267
        }
      ]
    },
    {
      "cell_type": "markdown",
      "metadata": {
        "id": "OHvD3RWdMeoG"
      },
      "source": [
        "``` ```"
      ]
    },
    {
      "cell_type": "code",
      "metadata": {
        "id": "DUkkB4T2MeoG"
      },
      "source": [
        "ax2 = ax.twinx()"
      ],
      "execution_count": null,
      "outputs": []
    },
    {
      "cell_type": "code",
      "metadata": {
        "id": "px4loAXNMeoH",
        "colab": {
          "base_uri": "https://localhost:8080/"
        },
        "collapsed": true,
        "outputId": "a45f393d-d754-4936-bf54-716ca1fde528"
      },
      "source": [
        "ax2.scatter(xData, zData, zorder=10, marker=\".\", c='orange')"
      ],
      "execution_count": null,
      "outputs": [
        {
          "output_type": "execute_result",
          "data": {
            "text/plain": [
              "<matplotlib.collections.PathCollection at 0x7fb583311a90>"
            ]
          },
          "metadata": {
            "tags": []
          },
          "execution_count": 269
        }
      ]
    },
    {
      "cell_type": "markdown",
      "metadata": {
        "id": "67TKdooiMeoH"
      },
      "source": [
        "``` ```"
      ]
    },
    {
      "cell_type": "code",
      "metadata": {
        "id": "boA7ZnFgMeoH",
        "colab": {
          "base_uri": "https://localhost:8080/"
        },
        "collapsed": true,
        "outputId": "ac2660b4-41e9-4578-fa17-4b8581c9973a"
      },
      "source": [
        "ax.set_title(\"Number of Titanic survivors vs age\")"
      ],
      "execution_count": null,
      "outputs": [
        {
          "output_type": "execute_result",
          "data": {
            "text/plain": [
              "Text(0.5, 1.0, 'Number of Titanic survivors vs age')"
            ]
          },
          "metadata": {
            "tags": []
          },
          "execution_count": 270
        }
      ]
    },
    {
      "cell_type": "code",
      "metadata": {
        "id": "wWNS56cwMeoH",
        "colab": {
          "base_uri": "https://localhost:8080/"
        },
        "collapsed": true,
        "outputId": "2ef3d401-2794-43e4-acf5-24d3c2e5aa5e"
      },
      "source": [
        "ax.set_xlabel(\"Age\")"
      ],
      "execution_count": null,
      "outputs": [
        {
          "output_type": "execute_result",
          "data": {
            "text/plain": [
              "Text(0.5, 17.200000000000017, 'Age')"
            ]
          },
          "metadata": {
            "tags": []
          },
          "execution_count": 271
        }
      ]
    },
    {
      "cell_type": "markdown",
      "metadata": {
        "id": "SnhJDM21MeoH"
      },
      "source": [
        "``` ```"
      ]
    },
    {
      "cell_type": "code",
      "metadata": {
        "id": "s9Q90OHMMeoH",
        "colab": {
          "base_uri": "https://localhost:8080/"
        },
        "collapsed": true,
        "outputId": "0ad4bae0-f8b6-46da-8678-9af837b47526"
      },
      "source": [
        "ax2.set_ylabel(\"median(Pclass)\")"
      ],
      "execution_count": null,
      "outputs": [
        {
          "output_type": "execute_result",
          "data": {
            "text/plain": [
              "Text(0, 0.5, 'median(Pclass)')"
            ]
          },
          "metadata": {
            "tags": []
          },
          "execution_count": 272
        }
      ]
    },
    {
      "cell_type": "markdown",
      "metadata": {
        "id": "I1NOYmQCMeoH"
      },
      "source": [
        "``` ```"
      ]
    },
    {
      "cell_type": "code",
      "metadata": {
        "id": "t00bfXuhMeoH"
      },
      "source": [
        "ax.grid(zorder=0)"
      ],
      "execution_count": null,
      "outputs": []
    },
    {
      "cell_type": "markdown",
      "metadata": {
        "id": "y3Tlk_8PMeoH"
      },
      "source": [
        "``` ```"
      ]
    },
    {
      "cell_type": "code",
      "metadata": {
        "id": "v6LzgCdgMeoH"
      },
      "source": [
        "showFigure()"
      ],
      "execution_count": null,
      "outputs": []
    },
    {
      "cell_type": "markdown",
      "metadata": {
        "id": "8b5ZlZbdMeoI"
      },
      "source": [
        "``` ```"
      ]
    },
    {
      "cell_type": "markdown",
      "metadata": {
        "id": "-MVzvOUPMenV"
      },
      "source": [
        "# Syntax Errors\n"
      ]
    },
    {
      "cell_type": "markdown",
      "metadata": {
        "id": "vpUJZ6gxMenV"
      },
      "source": [
        "```#-------------------------------------------------------------------------------```\n",
        "\n",
        "```# Syntax errors, also known as parsing errors, are perhaps the most common kind ```\n",
        "\n",
        "```# of complaint you get while you are still learning Python:```\n"
      ]
    },
    {
      "cell_type": "code",
      "metadata": {
        "colab": {
          "base_uri": "https://localhost:8080/"
        },
        "id": "8aMhBzjvlQHL",
        "collapsed": true,
        "outputId": "d2fbea93-253f-4461-cb45-0161a755e772"
      },
      "source": [
        "a = ((5*4+(2*6+10)))\n",
        "print(a)"
      ],
      "execution_count": null,
      "outputs": [
        {
          "output_type": "stream",
          "text": [
            "42\n"
          ],
          "name": "stdout"
        }
      ]
    },
    {
      "cell_type": "markdown",
      "metadata": {
        "id": "ZxCqqYOFMenW"
      },
      "source": [
        "``` ```"
      ]
    },
    {
      "cell_type": "markdown",
      "metadata": {
        "id": "NBRY6tKgMenW"
      },
      "source": [
        "```# File name and line number are printed so you know where to look in case the ```\n",
        "\n",
        "```# input came from a script.```\n"
      ]
    },
    {
      "cell_type": "markdown",
      "metadata": {
        "id": "CfZQlf43MenW"
      },
      "source": [
        "``` ```"
      ]
    },
    {
      "cell_type": "markdown",
      "metadata": {
        "id": "yk0wvOQVMenX"
      },
      "source": [
        "``` ```"
      ]
    },
    {
      "cell_type": "markdown",
      "metadata": {
        "id": "6LlKKZMCMenX"
      },
      "source": [
        "``` ```"
      ]
    }
  ]
}